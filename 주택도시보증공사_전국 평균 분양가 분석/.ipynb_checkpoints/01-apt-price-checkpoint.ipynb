{
 "cells": [
  {
   "cell_type": "markdown",
   "id": "b461bcbc",
   "metadata": {
    "heading_collapsed": true
   },
   "source": [
    "# data 폴더에 데이터셋 확인\n",
    "\n",
    "- 데이터 분석을 시작하기 전에 데이터 셋을 다운받아 저장해봅시다.\n",
    "- 데이터 셋을 data 폴더에 옮기고 확인해봅시다."
   ]
  },
  {
   "cell_type": "code",
   "execution_count": 232,
   "id": "2ba19811",
   "metadata": {
    "hidden": true,
    "scrolled": true
   },
   "outputs": [
    {
     "name": "stdout",
     "output_type": "stream",
     "text": [
      " D 드라이브의 볼륨: 새 볼륨\n",
      " 볼륨 일련 번호: 2C11-EAC0\n",
      "\n",
      " D:\\github\\python-Public_Data_Analysis\\주택도시보증공사_전국 평균 분양가 분석\\data 디렉터리\n",
      "\n",
      "2022-09-06  오전 11:18    <DIR>          .\n",
      "2022-09-06  오후 02:56    <DIR>          ..\n",
      "2020-03-05  오전 07:28             2,163 전국 평균 분양가격(2013년 9월부터 2015년 8월까지).csv\n",
      "2020-03-05  오전 07:28           162,510 주택도시보증공사_전국 평균 분양가격(2019년 12월).csv\n",
      "               2개 파일             164,673 바이트\n",
      "               2개 디렉터리  765,430,288,384 바이트 남음\n"
     ]
    }
   ],
   "source": [
    "%ls data"
   ]
  },
  {
   "cell_type": "markdown",
   "id": "0158326d",
   "metadata": {},
   "source": [
    "# 데이터 로드하기 & 전처리 하기\n",
    "- 우선, 데이터를 로드해봅시다."
   ]
  },
  {
   "cell_type": "markdown",
   "id": "69828203",
   "metadata": {},
   "source": [
    "## 주택도시보증공사 전국 평균 분양가격 2019년"
   ]
  },
  {
   "cell_type": "markdown",
   "id": "80c859f6",
   "metadata": {},
   "source": [
    "### 필요한 라이브러리 불러오기\n",
    "- 우선 엑셀과 비슷한 pandas를 import 해줍시다."
   ]
  },
  {
   "cell_type": "code",
   "execution_count": 1,
   "id": "d08d4449",
   "metadata": {},
   "outputs": [],
   "source": [
    "import pandas as pd"
   ]
  },
  {
   "cell_type": "markdown",
   "id": "fb9e2fc0",
   "metadata": {},
   "source": [
    "### 데이터를 로드하고, 행과 열을 출력하기\n",
    "- 아까 전 data 폴더에 저장한 csv 파일을 불러오고, df_last에 저장해봅시다.\n",
    "- 인코딩 에러가 나서, 추가로 **CP949**로 인코딩을 진행합시다.\n",
    "- shape 메서드를 이용해서, 해당 csv에 **행**과 **열**을 출력해봅시다."
   ]
  },
  {
   "cell_type": "code",
   "execution_count": 3,
   "id": "503ab623",
   "metadata": {
    "scrolled": false
   },
   "outputs": [
    {
     "data": {
      "text/plain": [
       "(4335, 5)"
      ]
     },
     "execution_count": 3,
     "metadata": {},
     "output_type": "execute_result"
    }
   ],
   "source": [
    "df_last = pd.read_csv(\"data/주택도시보증공사_전국 평균 분양가격(2019년 12월).csv\", encoding=\"CP949\")\n",
    "df_last.shape"
   ]
  },
  {
   "cell_type": "markdown",
   "id": "d07ad99e",
   "metadata": {},
   "source": [
    "### 데이터 미리보기\n",
    "- 불러온 데이터를 **head**와 **tail**로 미리 봐봅시다."
   ]
  },
  {
   "cell_type": "code",
   "execution_count": 4,
   "id": "fed8dd3c",
   "metadata": {},
   "outputs": [
    {
     "data": {
      "text/html": [
       "<div>\n",
       "<style scoped>\n",
       "    .dataframe tbody tr th:only-of-type {\n",
       "        vertical-align: middle;\n",
       "    }\n",
       "\n",
       "    .dataframe tbody tr th {\n",
       "        vertical-align: top;\n",
       "    }\n",
       "\n",
       "    .dataframe thead th {\n",
       "        text-align: right;\n",
       "    }\n",
       "</style>\n",
       "<table border=\"1\" class=\"dataframe\">\n",
       "  <thead>\n",
       "    <tr style=\"text-align: right;\">\n",
       "      <th></th>\n",
       "      <th>지역명</th>\n",
       "      <th>규모구분</th>\n",
       "      <th>연도</th>\n",
       "      <th>월</th>\n",
       "      <th>분양가격(㎡)</th>\n",
       "    </tr>\n",
       "  </thead>\n",
       "  <tbody>\n",
       "    <tr>\n",
       "      <th>0</th>\n",
       "      <td>서울</td>\n",
       "      <td>전체</td>\n",
       "      <td>2015</td>\n",
       "      <td>10</td>\n",
       "      <td>5841</td>\n",
       "    </tr>\n",
       "    <tr>\n",
       "      <th>1</th>\n",
       "      <td>서울</td>\n",
       "      <td>전용면적 60㎡이하</td>\n",
       "      <td>2015</td>\n",
       "      <td>10</td>\n",
       "      <td>5652</td>\n",
       "    </tr>\n",
       "    <tr>\n",
       "      <th>2</th>\n",
       "      <td>서울</td>\n",
       "      <td>전용면적 60㎡초과 85㎡이하</td>\n",
       "      <td>2015</td>\n",
       "      <td>10</td>\n",
       "      <td>5882</td>\n",
       "    </tr>\n",
       "    <tr>\n",
       "      <th>3</th>\n",
       "      <td>서울</td>\n",
       "      <td>전용면적 85㎡초과 102㎡이하</td>\n",
       "      <td>2015</td>\n",
       "      <td>10</td>\n",
       "      <td>5721</td>\n",
       "    </tr>\n",
       "    <tr>\n",
       "      <th>4</th>\n",
       "      <td>서울</td>\n",
       "      <td>전용면적 102㎡초과</td>\n",
       "      <td>2015</td>\n",
       "      <td>10</td>\n",
       "      <td>5879</td>\n",
       "    </tr>\n",
       "  </tbody>\n",
       "</table>\n",
       "</div>"
      ],
      "text/plain": [
       "  지역명               규모구분    연도   월 분양가격(㎡)\n",
       "0  서울                 전체  2015  10    5841\n",
       "1  서울         전용면적 60㎡이하  2015  10    5652\n",
       "2  서울   전용면적 60㎡초과 85㎡이하  2015  10    5882\n",
       "3  서울  전용면적 85㎡초과 102㎡이하  2015  10    5721\n",
       "4  서울        전용면적 102㎡초과  2015  10    5879"
      ]
     },
     "execution_count": 4,
     "metadata": {},
     "output_type": "execute_result"
    }
   ],
   "source": [
    "# head로 보기\n",
    "df_last.head()"
   ]
  },
  {
   "cell_type": "code",
   "execution_count": 5,
   "id": "d74de99b",
   "metadata": {},
   "outputs": [
    {
     "data": {
      "text/html": [
       "<div>\n",
       "<style scoped>\n",
       "    .dataframe tbody tr th:only-of-type {\n",
       "        vertical-align: middle;\n",
       "    }\n",
       "\n",
       "    .dataframe tbody tr th {\n",
       "        vertical-align: top;\n",
       "    }\n",
       "\n",
       "    .dataframe thead th {\n",
       "        text-align: right;\n",
       "    }\n",
       "</style>\n",
       "<table border=\"1\" class=\"dataframe\">\n",
       "  <thead>\n",
       "    <tr style=\"text-align: right;\">\n",
       "      <th></th>\n",
       "      <th>지역명</th>\n",
       "      <th>규모구분</th>\n",
       "      <th>연도</th>\n",
       "      <th>월</th>\n",
       "      <th>분양가격(㎡)</th>\n",
       "    </tr>\n",
       "  </thead>\n",
       "  <tbody>\n",
       "    <tr>\n",
       "      <th>4330</th>\n",
       "      <td>제주</td>\n",
       "      <td>전체</td>\n",
       "      <td>2019</td>\n",
       "      <td>12</td>\n",
       "      <td>3882</td>\n",
       "    </tr>\n",
       "    <tr>\n",
       "      <th>4331</th>\n",
       "      <td>제주</td>\n",
       "      <td>전용면적 60㎡이하</td>\n",
       "      <td>2019</td>\n",
       "      <td>12</td>\n",
       "      <td>NaN</td>\n",
       "    </tr>\n",
       "    <tr>\n",
       "      <th>4332</th>\n",
       "      <td>제주</td>\n",
       "      <td>전용면적 60㎡초과 85㎡이하</td>\n",
       "      <td>2019</td>\n",
       "      <td>12</td>\n",
       "      <td>3898</td>\n",
       "    </tr>\n",
       "    <tr>\n",
       "      <th>4333</th>\n",
       "      <td>제주</td>\n",
       "      <td>전용면적 85㎡초과 102㎡이하</td>\n",
       "      <td>2019</td>\n",
       "      <td>12</td>\n",
       "      <td>NaN</td>\n",
       "    </tr>\n",
       "    <tr>\n",
       "      <th>4334</th>\n",
       "      <td>제주</td>\n",
       "      <td>전용면적 102㎡초과</td>\n",
       "      <td>2019</td>\n",
       "      <td>12</td>\n",
       "      <td>3601</td>\n",
       "    </tr>\n",
       "  </tbody>\n",
       "</table>\n",
       "</div>"
      ],
      "text/plain": [
       "     지역명               규모구분    연도   월 분양가격(㎡)\n",
       "4330  제주                 전체  2019  12    3882\n",
       "4331  제주         전용면적 60㎡이하  2019  12     NaN\n",
       "4332  제주   전용면적 60㎡초과 85㎡이하  2019  12    3898\n",
       "4333  제주  전용면적 85㎡초과 102㎡이하  2019  12     NaN\n",
       "4334  제주        전용면적 102㎡초과  2019  12    3601"
      ]
     },
     "execution_count": 5,
     "metadata": {},
     "output_type": "execute_result"
    }
   ],
   "source": [
    "# tail로 보기\n",
    "df_last.tail()"
   ]
  },
  {
   "cell_type": "markdown",
   "id": "ea5ab0fa",
   "metadata": {},
   "source": [
    "## 주택도시보증공사 전국 평균 분양가격 2013년 ~ 2015년"
   ]
  },
  {
   "cell_type": "markdown",
   "id": "fe6a2f45",
   "metadata": {},
   "source": [
    "### 데이터를 로드하고, 행과 열을 출력하기\n",
    "- 2019년과 같은 방식으로 df_first에 데이터를 로드하고 행과 열을 출력해봅시다."
   ]
  },
  {
   "cell_type": "code",
   "execution_count": 6,
   "id": "3d547dca",
   "metadata": {
    "scrolled": false
   },
   "outputs": [
    {
     "data": {
      "text/plain": [
       "(17, 22)"
      ]
     },
     "execution_count": 6,
     "metadata": {},
     "output_type": "execute_result"
    }
   ],
   "source": [
    "df_first = pd.read_csv(\"data/전국 평균 분양가격(2013년 9월부터 2015년 8월까지).csv\", encoding=\"CP949\")\n",
    "df_first.shape"
   ]
  },
  {
   "cell_type": "markdown",
   "id": "bbf10849",
   "metadata": {},
   "source": [
    "### 데이터 미리보기\n",
    "- 불러온 데이터를 **head**와 **tail**로 미리 봐봅시다."
   ]
  },
  {
   "cell_type": "code",
   "execution_count": 7,
   "id": "887248b7",
   "metadata": {},
   "outputs": [
    {
     "data": {
      "text/html": [
       "<div>\n",
       "<style scoped>\n",
       "    .dataframe tbody tr th:only-of-type {\n",
       "        vertical-align: middle;\n",
       "    }\n",
       "\n",
       "    .dataframe tbody tr th {\n",
       "        vertical-align: top;\n",
       "    }\n",
       "\n",
       "    .dataframe thead th {\n",
       "        text-align: right;\n",
       "    }\n",
       "</style>\n",
       "<table border=\"1\" class=\"dataframe\">\n",
       "  <thead>\n",
       "    <tr style=\"text-align: right;\">\n",
       "      <th></th>\n",
       "      <th>지역</th>\n",
       "      <th>2013년12월</th>\n",
       "      <th>2014년1월</th>\n",
       "      <th>2014년2월</th>\n",
       "      <th>2014년3월</th>\n",
       "      <th>2014년4월</th>\n",
       "      <th>2014년5월</th>\n",
       "      <th>2014년6월</th>\n",
       "      <th>2014년7월</th>\n",
       "      <th>2014년8월</th>\n",
       "      <th>...</th>\n",
       "      <th>2014년11월</th>\n",
       "      <th>2014년12월</th>\n",
       "      <th>2015년1월</th>\n",
       "      <th>2015년2월</th>\n",
       "      <th>2015년3월</th>\n",
       "      <th>2015년4월</th>\n",
       "      <th>2015년5월</th>\n",
       "      <th>2015년6월</th>\n",
       "      <th>2015년7월</th>\n",
       "      <th>2015년8월</th>\n",
       "    </tr>\n",
       "  </thead>\n",
       "  <tbody>\n",
       "    <tr>\n",
       "      <th>0</th>\n",
       "      <td>서울</td>\n",
       "      <td>18189</td>\n",
       "      <td>17925</td>\n",
       "      <td>17925</td>\n",
       "      <td>18016</td>\n",
       "      <td>18098</td>\n",
       "      <td>19446</td>\n",
       "      <td>18867</td>\n",
       "      <td>18742</td>\n",
       "      <td>19274</td>\n",
       "      <td>...</td>\n",
       "      <td>20242</td>\n",
       "      <td>20269</td>\n",
       "      <td>20670</td>\n",
       "      <td>20670</td>\n",
       "      <td>19415</td>\n",
       "      <td>18842</td>\n",
       "      <td>18367</td>\n",
       "      <td>18374</td>\n",
       "      <td>18152</td>\n",
       "      <td>18443</td>\n",
       "    </tr>\n",
       "    <tr>\n",
       "      <th>1</th>\n",
       "      <td>부산</td>\n",
       "      <td>8111</td>\n",
       "      <td>8111</td>\n",
       "      <td>9078</td>\n",
       "      <td>8965</td>\n",
       "      <td>9402</td>\n",
       "      <td>9501</td>\n",
       "      <td>9453</td>\n",
       "      <td>9457</td>\n",
       "      <td>9411</td>\n",
       "      <td>...</td>\n",
       "      <td>9208</td>\n",
       "      <td>9208</td>\n",
       "      <td>9204</td>\n",
       "      <td>9235</td>\n",
       "      <td>9279</td>\n",
       "      <td>9327</td>\n",
       "      <td>9345</td>\n",
       "      <td>9515</td>\n",
       "      <td>9559</td>\n",
       "      <td>9581</td>\n",
       "    </tr>\n",
       "    <tr>\n",
       "      <th>2</th>\n",
       "      <td>대구</td>\n",
       "      <td>8080</td>\n",
       "      <td>8080</td>\n",
       "      <td>8077</td>\n",
       "      <td>8101</td>\n",
       "      <td>8267</td>\n",
       "      <td>8274</td>\n",
       "      <td>8360</td>\n",
       "      <td>8360</td>\n",
       "      <td>8370</td>\n",
       "      <td>...</td>\n",
       "      <td>8439</td>\n",
       "      <td>8253</td>\n",
       "      <td>8327</td>\n",
       "      <td>8416</td>\n",
       "      <td>8441</td>\n",
       "      <td>8446</td>\n",
       "      <td>8568</td>\n",
       "      <td>8542</td>\n",
       "      <td>8542</td>\n",
       "      <td>8795</td>\n",
       "    </tr>\n",
       "    <tr>\n",
       "      <th>3</th>\n",
       "      <td>인천</td>\n",
       "      <td>10204</td>\n",
       "      <td>10204</td>\n",
       "      <td>10408</td>\n",
       "      <td>10408</td>\n",
       "      <td>10000</td>\n",
       "      <td>9844</td>\n",
       "      <td>10058</td>\n",
       "      <td>9974</td>\n",
       "      <td>9973</td>\n",
       "      <td>...</td>\n",
       "      <td>10020</td>\n",
       "      <td>10020</td>\n",
       "      <td>10017</td>\n",
       "      <td>9876</td>\n",
       "      <td>9876</td>\n",
       "      <td>9938</td>\n",
       "      <td>10551</td>\n",
       "      <td>10443</td>\n",
       "      <td>10443</td>\n",
       "      <td>10449</td>\n",
       "    </tr>\n",
       "    <tr>\n",
       "      <th>4</th>\n",
       "      <td>광주</td>\n",
       "      <td>6098</td>\n",
       "      <td>7326</td>\n",
       "      <td>7611</td>\n",
       "      <td>7346</td>\n",
       "      <td>7346</td>\n",
       "      <td>7523</td>\n",
       "      <td>7659</td>\n",
       "      <td>7612</td>\n",
       "      <td>7622</td>\n",
       "      <td>...</td>\n",
       "      <td>7752</td>\n",
       "      <td>7748</td>\n",
       "      <td>7752</td>\n",
       "      <td>7756</td>\n",
       "      <td>7861</td>\n",
       "      <td>7914</td>\n",
       "      <td>7877</td>\n",
       "      <td>7881</td>\n",
       "      <td>8089</td>\n",
       "      <td>8231</td>\n",
       "    </tr>\n",
       "  </tbody>\n",
       "</table>\n",
       "<p>5 rows × 22 columns</p>\n",
       "</div>"
      ],
      "text/plain": [
       "   지역  2013년12월  2014년1월  2014년2월  2014년3월  2014년4월  2014년5월  2014년6월  \\\n",
       "0  서울     18189    17925    17925    18016    18098    19446    18867   \n",
       "1  부산      8111     8111     9078     8965     9402     9501     9453   \n",
       "2  대구      8080     8080     8077     8101     8267     8274     8360   \n",
       "3  인천     10204    10204    10408    10408    10000     9844    10058   \n",
       "4  광주      6098     7326     7611     7346     7346     7523     7659   \n",
       "\n",
       "   2014년7월  2014년8월  ...  2014년11월  2014년12월  2015년1월  2015년2월  2015년3월  \\\n",
       "0    18742    19274  ...     20242     20269    20670    20670    19415   \n",
       "1     9457     9411  ...      9208      9208     9204     9235     9279   \n",
       "2     8360     8370  ...      8439      8253     8327     8416     8441   \n",
       "3     9974     9973  ...     10020     10020    10017     9876     9876   \n",
       "4     7612     7622  ...      7752      7748     7752     7756     7861   \n",
       "\n",
       "   2015년4월  2015년5월  2015년6월  2015년7월  2015년8월  \n",
       "0    18842    18367    18374    18152    18443  \n",
       "1     9327     9345     9515     9559     9581  \n",
       "2     8446     8568     8542     8542     8795  \n",
       "3     9938    10551    10443    10443    10449  \n",
       "4     7914     7877     7881     8089     8231  \n",
       "\n",
       "[5 rows x 22 columns]"
      ]
     },
     "execution_count": 7,
     "metadata": {},
     "output_type": "execute_result"
    }
   ],
   "source": [
    "# head로 보기\n",
    "df_first.head()"
   ]
  },
  {
   "cell_type": "code",
   "execution_count": 8,
   "id": "62bf99f1",
   "metadata": {},
   "outputs": [
    {
     "data": {
      "text/html": [
       "<div>\n",
       "<style scoped>\n",
       "    .dataframe tbody tr th:only-of-type {\n",
       "        vertical-align: middle;\n",
       "    }\n",
       "\n",
       "    .dataframe tbody tr th {\n",
       "        vertical-align: top;\n",
       "    }\n",
       "\n",
       "    .dataframe thead th {\n",
       "        text-align: right;\n",
       "    }\n",
       "</style>\n",
       "<table border=\"1\" class=\"dataframe\">\n",
       "  <thead>\n",
       "    <tr style=\"text-align: right;\">\n",
       "      <th></th>\n",
       "      <th>지역</th>\n",
       "      <th>2013년12월</th>\n",
       "      <th>2014년1월</th>\n",
       "      <th>2014년2월</th>\n",
       "      <th>2014년3월</th>\n",
       "      <th>2014년4월</th>\n",
       "      <th>2014년5월</th>\n",
       "      <th>2014년6월</th>\n",
       "      <th>2014년7월</th>\n",
       "      <th>2014년8월</th>\n",
       "      <th>...</th>\n",
       "      <th>2014년11월</th>\n",
       "      <th>2014년12월</th>\n",
       "      <th>2015년1월</th>\n",
       "      <th>2015년2월</th>\n",
       "      <th>2015년3월</th>\n",
       "      <th>2015년4월</th>\n",
       "      <th>2015년5월</th>\n",
       "      <th>2015년6월</th>\n",
       "      <th>2015년7월</th>\n",
       "      <th>2015년8월</th>\n",
       "    </tr>\n",
       "  </thead>\n",
       "  <tbody>\n",
       "    <tr>\n",
       "      <th>12</th>\n",
       "      <td>전북</td>\n",
       "      <td>6282</td>\n",
       "      <td>6281</td>\n",
       "      <td>5946</td>\n",
       "      <td>5966</td>\n",
       "      <td>6277</td>\n",
       "      <td>6306</td>\n",
       "      <td>6351</td>\n",
       "      <td>6319</td>\n",
       "      <td>6436</td>\n",
       "      <td>...</td>\n",
       "      <td>6583</td>\n",
       "      <td>6583</td>\n",
       "      <td>6583</td>\n",
       "      <td>6583</td>\n",
       "      <td>6542</td>\n",
       "      <td>6551</td>\n",
       "      <td>6556</td>\n",
       "      <td>6601</td>\n",
       "      <td>6750</td>\n",
       "      <td>6580</td>\n",
       "    </tr>\n",
       "    <tr>\n",
       "      <th>13</th>\n",
       "      <td>전남</td>\n",
       "      <td>5678</td>\n",
       "      <td>5678</td>\n",
       "      <td>5678</td>\n",
       "      <td>5696</td>\n",
       "      <td>5736</td>\n",
       "      <td>5656</td>\n",
       "      <td>5609</td>\n",
       "      <td>5780</td>\n",
       "      <td>5685</td>\n",
       "      <td>...</td>\n",
       "      <td>5768</td>\n",
       "      <td>5784</td>\n",
       "      <td>5784</td>\n",
       "      <td>5833</td>\n",
       "      <td>5825</td>\n",
       "      <td>5940</td>\n",
       "      <td>6050</td>\n",
       "      <td>6243</td>\n",
       "      <td>6286</td>\n",
       "      <td>6289</td>\n",
       "    </tr>\n",
       "    <tr>\n",
       "      <th>14</th>\n",
       "      <td>경북</td>\n",
       "      <td>6168</td>\n",
       "      <td>6168</td>\n",
       "      <td>6234</td>\n",
       "      <td>6317</td>\n",
       "      <td>6412</td>\n",
       "      <td>6409</td>\n",
       "      <td>6554</td>\n",
       "      <td>6556</td>\n",
       "      <td>6563</td>\n",
       "      <td>...</td>\n",
       "      <td>6881</td>\n",
       "      <td>6989</td>\n",
       "      <td>6992</td>\n",
       "      <td>6953</td>\n",
       "      <td>6997</td>\n",
       "      <td>7006</td>\n",
       "      <td>6966</td>\n",
       "      <td>6887</td>\n",
       "      <td>7035</td>\n",
       "      <td>7037</td>\n",
       "    </tr>\n",
       "    <tr>\n",
       "      <th>15</th>\n",
       "      <td>경남</td>\n",
       "      <td>6473</td>\n",
       "      <td>6485</td>\n",
       "      <td>6502</td>\n",
       "      <td>6610</td>\n",
       "      <td>6599</td>\n",
       "      <td>6610</td>\n",
       "      <td>6615</td>\n",
       "      <td>6613</td>\n",
       "      <td>6606</td>\n",
       "      <td>...</td>\n",
       "      <td>7125</td>\n",
       "      <td>7332</td>\n",
       "      <td>7592</td>\n",
       "      <td>7588</td>\n",
       "      <td>7668</td>\n",
       "      <td>7683</td>\n",
       "      <td>7717</td>\n",
       "      <td>7715</td>\n",
       "      <td>7723</td>\n",
       "      <td>7665</td>\n",
       "    </tr>\n",
       "    <tr>\n",
       "      <th>16</th>\n",
       "      <td>제주</td>\n",
       "      <td>7674</td>\n",
       "      <td>7900</td>\n",
       "      <td>7900</td>\n",
       "      <td>7900</td>\n",
       "      <td>7900</td>\n",
       "      <td>7900</td>\n",
       "      <td>7914</td>\n",
       "      <td>7914</td>\n",
       "      <td>7914</td>\n",
       "      <td>...</td>\n",
       "      <td>7724</td>\n",
       "      <td>7739</td>\n",
       "      <td>7739</td>\n",
       "      <td>7739</td>\n",
       "      <td>7826</td>\n",
       "      <td>7285</td>\n",
       "      <td>7285</td>\n",
       "      <td>7343</td>\n",
       "      <td>7343</td>\n",
       "      <td>7343</td>\n",
       "    </tr>\n",
       "  </tbody>\n",
       "</table>\n",
       "<p>5 rows × 22 columns</p>\n",
       "</div>"
      ],
      "text/plain": [
       "    지역  2013년12월  2014년1월  2014년2월  2014년3월  2014년4월  2014년5월  2014년6월  \\\n",
       "12  전북      6282     6281     5946     5966     6277     6306     6351   \n",
       "13  전남      5678     5678     5678     5696     5736     5656     5609   \n",
       "14  경북      6168     6168     6234     6317     6412     6409     6554   \n",
       "15  경남      6473     6485     6502     6610     6599     6610     6615   \n",
       "16  제주      7674     7900     7900     7900     7900     7900     7914   \n",
       "\n",
       "    2014년7월  2014년8월  ...  2014년11월  2014년12월  2015년1월  2015년2월  2015년3월  \\\n",
       "12     6319     6436  ...      6583      6583     6583     6583     6542   \n",
       "13     5780     5685  ...      5768      5784     5784     5833     5825   \n",
       "14     6556     6563  ...      6881      6989     6992     6953     6997   \n",
       "15     6613     6606  ...      7125      7332     7592     7588     7668   \n",
       "16     7914     7914  ...      7724      7739     7739     7739     7826   \n",
       "\n",
       "    2015년4월  2015년5월  2015년6월  2015년7월  2015년8월  \n",
       "12     6551     6556     6601     6750     6580  \n",
       "13     5940     6050     6243     6286     6289  \n",
       "14     7006     6966     6887     7035     7037  \n",
       "15     7683     7717     7715     7723     7665  \n",
       "16     7285     7285     7343     7343     7343  \n",
       "\n",
       "[5 rows x 22 columns]"
      ]
     },
     "execution_count": 8,
     "metadata": {},
     "output_type": "execute_result"
    }
   ],
   "source": [
    "# tail로 보기\n",
    "df_first.tail()"
   ]
  },
  {
   "cell_type": "markdown",
   "id": "58b5cb29",
   "metadata": {},
   "source": [
    "## 데이터 요약하기\n",
    "- 지금까지 불러온 데이터를 요약시켜 봅시다.\n",
    "- info 메서드를 사용하면 됩니다."
   ]
  },
  {
   "cell_type": "code",
   "execution_count": 9,
   "id": "652ea48b",
   "metadata": {},
   "outputs": [
    {
     "name": "stdout",
     "output_type": "stream",
     "text": [
      "<class 'pandas.core.frame.DataFrame'>\n",
      "RangeIndex: 4335 entries, 0 to 4334\n",
      "Data columns (total 5 columns):\n",
      " #   Column   Non-Null Count  Dtype \n",
      "---  ------   --------------  ----- \n",
      " 0   지역명      4335 non-null   object\n",
      " 1   규모구분     4335 non-null   object\n",
      " 2   연도       4335 non-null   int64 \n",
      " 3   월        4335 non-null   int64 \n",
      " 4   분양가격(㎡)  4058 non-null   object\n",
      "dtypes: int64(2), object(3)\n",
      "memory usage: 169.5+ KB\n"
     ]
    }
   ],
   "source": [
    "df_last.info()"
   ]
  },
  {
   "cell_type": "markdown",
   "id": "b0693cde",
   "metadata": {},
   "source": [
    "##  결측치 확인하기\n",
    "- df_last에 경우 위에서 보면 **NaN**이라는 값이 보일것이다.\n",
    "- isnull 혹은 isna 메서드를 사용하면 결측치가 있는지 여부를 확인할 수 있다.\n",
    "- sum 메서드를 사용하면 결측치의 수를 구할 수가 있다.\n",
    "- 이걸 한번 확인해보자."
   ]
  },
  {
   "cell_type": "code",
   "execution_count": 10,
   "id": "1ac4aefb",
   "metadata": {},
   "outputs": [
    {
     "data": {
      "text/plain": [
       "지역명          0\n",
       "규모구분         0\n",
       "연도           0\n",
       "월            0\n",
       "분양가격(㎡)    277\n",
       "dtype: int64"
      ]
     },
     "execution_count": 10,
     "metadata": {},
     "output_type": "execute_result"
    }
   ],
   "source": [
    "df_last.isnull().sum() # isnull() 사용"
   ]
  },
  {
   "cell_type": "code",
   "execution_count": 11,
   "id": "f9a71163",
   "metadata": {},
   "outputs": [
    {
     "data": {
      "text/plain": [
       "지역명          0\n",
       "규모구분         0\n",
       "연도           0\n",
       "월            0\n",
       "분양가격(㎡)    277\n",
       "dtype: int64"
      ]
     },
     "execution_count": 11,
     "metadata": {},
     "output_type": "execute_result"
    }
   ],
   "source": [
    " df_last.isna().sum() # isna() 사용"
   ]
  },
  {
   "cell_type": "markdown",
   "id": "bd06dc6c",
   "metadata": {},
   "source": [
    "## 데이터 타입 변경\n",
    "- 위 데이터 요약을 확인하면 분양 가격이 Object로 되어있는 것을 확인할 수 있다.\n",
    "- 알고는 있겠지만 문자열 타입은 계산을 할 수 없다. 그래서 우리는 이것을 **수치 데이터**로 변환시켜야 한다.\n",
    "- 결측치가 섞여 있을 때는 변환이 제대로 되지 않는 문제가 발생한다.\n",
    "- 그래서 **pd.to_numeric**을 통해 데이터의 타입을 변환할것이다.\n",
    "- 한번 실습해보자."
   ]
  },
  {
   "cell_type": "code",
   "execution_count": 12,
   "id": "a64db942",
   "metadata": {},
   "outputs": [
    {
     "data": {
      "text/plain": [
       "0    5841.0\n",
       "Name: 분양가격, dtype: float64"
      ]
     },
     "execution_count": 12,
     "metadata": {},
     "output_type": "execute_result"
    }
   ],
   "source": [
    "df_last['분양가격'] = pd.to_numeric(df_last['분양가격(㎡)'], errors=\"coerce\")\n",
    "df_last[\"분양가격\"].head(1)"
   ]
  },
  {
   "cell_type": "markdown",
   "id": "5ad2eba6",
   "metadata": {},
   "source": [
    "## 평당분양가격 구하기\n",
    "- df_first같은 경우, 평당분양가격 기준으로 되어있지만 df_last는 분양가격을 기준으로 되어있다.\n",
    "- df_last에 분양가격기준을 평당분양가격기준으로 보기 위해 3.3을 곱해서 평당분양가격 컬럼을 추가해 보자.\n"
   ]
  },
  {
   "cell_type": "code",
   "execution_count": 13,
   "id": "3e26ca7e",
   "metadata": {},
   "outputs": [
    {
     "data": {
      "text/html": [
       "<div>\n",
       "<style scoped>\n",
       "    .dataframe tbody tr th:only-of-type {\n",
       "        vertical-align: middle;\n",
       "    }\n",
       "\n",
       "    .dataframe tbody tr th {\n",
       "        vertical-align: top;\n",
       "    }\n",
       "\n",
       "    .dataframe thead th {\n",
       "        text-align: right;\n",
       "    }\n",
       "</style>\n",
       "<table border=\"1\" class=\"dataframe\">\n",
       "  <thead>\n",
       "    <tr style=\"text-align: right;\">\n",
       "      <th></th>\n",
       "      <th>지역명</th>\n",
       "      <th>규모구분</th>\n",
       "      <th>연도</th>\n",
       "      <th>월</th>\n",
       "      <th>분양가격(㎡)</th>\n",
       "      <th>분양가격</th>\n",
       "      <th>평당분양가격</th>\n",
       "    </tr>\n",
       "  </thead>\n",
       "  <tbody>\n",
       "    <tr>\n",
       "      <th>0</th>\n",
       "      <td>서울</td>\n",
       "      <td>전체</td>\n",
       "      <td>2015</td>\n",
       "      <td>10</td>\n",
       "      <td>5841</td>\n",
       "      <td>5841.0</td>\n",
       "      <td>19275.3</td>\n",
       "    </tr>\n",
       "    <tr>\n",
       "      <th>1</th>\n",
       "      <td>서울</td>\n",
       "      <td>전용면적 60㎡이하</td>\n",
       "      <td>2015</td>\n",
       "      <td>10</td>\n",
       "      <td>5652</td>\n",
       "      <td>5652.0</td>\n",
       "      <td>18651.6</td>\n",
       "    </tr>\n",
       "    <tr>\n",
       "      <th>2</th>\n",
       "      <td>서울</td>\n",
       "      <td>전용면적 60㎡초과 85㎡이하</td>\n",
       "      <td>2015</td>\n",
       "      <td>10</td>\n",
       "      <td>5882</td>\n",
       "      <td>5882.0</td>\n",
       "      <td>19410.6</td>\n",
       "    </tr>\n",
       "    <tr>\n",
       "      <th>3</th>\n",
       "      <td>서울</td>\n",
       "      <td>전용면적 85㎡초과 102㎡이하</td>\n",
       "      <td>2015</td>\n",
       "      <td>10</td>\n",
       "      <td>5721</td>\n",
       "      <td>5721.0</td>\n",
       "      <td>18879.3</td>\n",
       "    </tr>\n",
       "    <tr>\n",
       "      <th>4</th>\n",
       "      <td>서울</td>\n",
       "      <td>전용면적 102㎡초과</td>\n",
       "      <td>2015</td>\n",
       "      <td>10</td>\n",
       "      <td>5879</td>\n",
       "      <td>5879.0</td>\n",
       "      <td>19400.7</td>\n",
       "    </tr>\n",
       "    <tr>\n",
       "      <th>...</th>\n",
       "      <td>...</td>\n",
       "      <td>...</td>\n",
       "      <td>...</td>\n",
       "      <td>...</td>\n",
       "      <td>...</td>\n",
       "      <td>...</td>\n",
       "      <td>...</td>\n",
       "    </tr>\n",
       "    <tr>\n",
       "      <th>4330</th>\n",
       "      <td>제주</td>\n",
       "      <td>전체</td>\n",
       "      <td>2019</td>\n",
       "      <td>12</td>\n",
       "      <td>3882</td>\n",
       "      <td>3882.0</td>\n",
       "      <td>12810.6</td>\n",
       "    </tr>\n",
       "    <tr>\n",
       "      <th>4331</th>\n",
       "      <td>제주</td>\n",
       "      <td>전용면적 60㎡이하</td>\n",
       "      <td>2019</td>\n",
       "      <td>12</td>\n",
       "      <td>NaN</td>\n",
       "      <td>NaN</td>\n",
       "      <td>NaN</td>\n",
       "    </tr>\n",
       "    <tr>\n",
       "      <th>4332</th>\n",
       "      <td>제주</td>\n",
       "      <td>전용면적 60㎡초과 85㎡이하</td>\n",
       "      <td>2019</td>\n",
       "      <td>12</td>\n",
       "      <td>3898</td>\n",
       "      <td>3898.0</td>\n",
       "      <td>12863.4</td>\n",
       "    </tr>\n",
       "    <tr>\n",
       "      <th>4333</th>\n",
       "      <td>제주</td>\n",
       "      <td>전용면적 85㎡초과 102㎡이하</td>\n",
       "      <td>2019</td>\n",
       "      <td>12</td>\n",
       "      <td>NaN</td>\n",
       "      <td>NaN</td>\n",
       "      <td>NaN</td>\n",
       "    </tr>\n",
       "    <tr>\n",
       "      <th>4334</th>\n",
       "      <td>제주</td>\n",
       "      <td>전용면적 102㎡초과</td>\n",
       "      <td>2019</td>\n",
       "      <td>12</td>\n",
       "      <td>3601</td>\n",
       "      <td>3601.0</td>\n",
       "      <td>11883.3</td>\n",
       "    </tr>\n",
       "  </tbody>\n",
       "</table>\n",
       "<p>4335 rows × 7 columns</p>\n",
       "</div>"
      ],
      "text/plain": [
       "     지역명               규모구분    연도   월 분양가격(㎡)    분양가격   평당분양가격\n",
       "0     서울                 전체  2015  10    5841  5841.0  19275.3\n",
       "1     서울         전용면적 60㎡이하  2015  10    5652  5652.0  18651.6\n",
       "2     서울   전용면적 60㎡초과 85㎡이하  2015  10    5882  5882.0  19410.6\n",
       "3     서울  전용면적 85㎡초과 102㎡이하  2015  10    5721  5721.0  18879.3\n",
       "4     서울        전용면적 102㎡초과  2015  10    5879  5879.0  19400.7\n",
       "...   ..                ...   ...  ..     ...     ...      ...\n",
       "4330  제주                 전체  2019  12    3882  3882.0  12810.6\n",
       "4331  제주         전용면적 60㎡이하  2019  12     NaN     NaN      NaN\n",
       "4332  제주   전용면적 60㎡초과 85㎡이하  2019  12    3898  3898.0  12863.4\n",
       "4333  제주  전용면적 85㎡초과 102㎡이하  2019  12     NaN     NaN      NaN\n",
       "4334  제주        전용면적 102㎡초과  2019  12    3601  3601.0  11883.3\n",
       "\n",
       "[4335 rows x 7 columns]"
      ]
     },
     "execution_count": 13,
     "metadata": {},
     "output_type": "execute_result"
    }
   ],
   "source": [
    "df_last['평당분양가격'] = df_last['분양가격'] * 3.3\n",
    "df_last"
   ]
  },
  {
   "cell_type": "markdown",
   "id": "2d00d35f",
   "metadata": {},
   "source": [
    "## 분양가격 요약하기\n",
    "- 분양가격을 요약하여 봅시다."
   ]
  },
  {
   "cell_type": "markdown",
   "id": "ba21d8fd",
   "metadata": {},
   "source": [
    "### info로 요약하기."
   ]
  },
  {
   "cell_type": "code",
   "execution_count": 14,
   "id": "4640e434",
   "metadata": {},
   "outputs": [
    {
     "name": "stdout",
     "output_type": "stream",
     "text": [
      "<class 'pandas.core.frame.DataFrame'>\n",
      "RangeIndex: 4335 entries, 0 to 4334\n",
      "Data columns (total 7 columns):\n",
      " #   Column   Non-Null Count  Dtype  \n",
      "---  ------   --------------  -----  \n",
      " 0   지역명      4335 non-null   object \n",
      " 1   규모구분     4335 non-null   object \n",
      " 2   연도       4335 non-null   int64  \n",
      " 3   월        4335 non-null   int64  \n",
      " 4   분양가격(㎡)  4058 non-null   object \n",
      " 5   분양가격     3957 non-null   float64\n",
      " 6   평당분양가격   3957 non-null   float64\n",
      "dtypes: float64(2), int64(2), object(3)\n",
      "memory usage: 237.2+ KB\n"
     ]
    }
   ],
   "source": [
    "df_last.info()"
   ]
  },
  {
   "cell_type": "markdown",
   "id": "ffc14886",
   "metadata": {},
   "source": [
    "### 변경 전 분양가격 컬럼을 요약하기.\n",
    "- describe 메소드로 요약이 가능하다."
   ]
  },
  {
   "cell_type": "code",
   "execution_count": 15,
   "id": "0d827aab",
   "metadata": {},
   "outputs": [
    {
     "data": {
      "text/plain": [
       "count     4058\n",
       "unique    1753\n",
       "top       2221\n",
       "freq        17\n",
       "Name: 분양가격(㎡), dtype: object"
      ]
     },
     "execution_count": 15,
     "metadata": {},
     "output_type": "execute_result"
    }
   ],
   "source": [
    "df_last['분양가격(㎡)'].describe()"
   ]
  },
  {
   "cell_type": "markdown",
   "id": "62c64b37",
   "metadata": {},
   "source": [
    "### 수치데이터로 변경된 분양가격 컬럼을 요약하기\n",
    "- 이 경우, 더 자세하게 나온다."
   ]
  },
  {
   "cell_type": "code",
   "execution_count": 16,
   "id": "0f9a6403",
   "metadata": {
    "scrolled": true
   },
   "outputs": [
    {
     "data": {
      "text/plain": [
       "count     3957.000000\n",
       "mean      3238.128633\n",
       "std       1264.309933\n",
       "min       1868.000000\n",
       "25%       2441.000000\n",
       "50%       2874.000000\n",
       "75%       3561.000000\n",
       "max      12728.000000\n",
       "Name: 분양가격, dtype: float64"
      ]
     },
     "execution_count": 16,
     "metadata": {},
     "output_type": "execute_result"
    }
   ],
   "source": [
    "df_last['분양가격'].describe()"
   ]
  },
  {
   "cell_type": "markdown",
   "id": "0bdc11d1",
   "metadata": {},
   "source": [
    "## 규모구분을 전용면적 컬럼으로 바꾸기\n",
    "- 규모구분 컬럼을 보면 전용면적에 대한 내용이 포함되어 있다.\n",
    "- 전용면적이라는 문구가 공통적으로 들어가고, 규모부분보다는 전용면적이 좀 더 직관적이다.\n",
    "- 따라서, 전용면적이라는 컬럼을 만들어주고 기존 규모구분의 값에서 전용면적, 초과, 이하 등의 문구를 빼고 간결하게 만들어보자.\n",
    "- str과 replace 기능을 사용하면 된다."
   ]
  },
  {
   "cell_type": "code",
   "execution_count": 17,
   "id": "966d0b71",
   "metadata": {},
   "outputs": [
    {
     "data": {
      "text/plain": [
       "array(['전체', '전용면적 60㎡이하', '전용면적 60㎡초과 85㎡이하', '전용면적 85㎡초과 102㎡이하',\n",
       "       '전용면적 102㎡초과'], dtype=object)"
      ]
     },
     "execution_count": 17,
     "metadata": {},
     "output_type": "execute_result"
    }
   ],
   "source": [
    "df_last[\"규모구분\"].unique()"
   ]
  },
  {
   "cell_type": "code",
   "execution_count": 18,
   "id": "095f0b10",
   "metadata": {},
   "outputs": [
    {
     "data": {
      "text/plain": [
       "0             전체\n",
       "1            60㎡\n",
       "2        60㎡~85㎡\n",
       "3       85㎡~102㎡\n",
       "4          102㎡~\n",
       "          ...   \n",
       "4330          전체\n",
       "4331         60㎡\n",
       "4332     60㎡~85㎡\n",
       "4333    85㎡~102㎡\n",
       "4334       102㎡~\n",
       "Name: 전용면적, Length: 4335, dtype: object"
      ]
     },
     "execution_count": 18,
     "metadata": {},
     "output_type": "execute_result"
    }
   ],
   "source": [
    "df_last[\"전용면적\"] = df_last[\"규모구분\"].str.replace(\"전용면적\", \"\")\n",
    "df_last[\"전용면적\"] = df_last[\"전용면적\"].str.replace(\"초과\", \" ~\")\n",
    "df_last[\"전용면적\"] = df_last[\"전용면적\"].str.replace(\"이하\", \"\")\n",
    "df_last[\"전용면적\"] = df_last[\"전용면적\"].str.replace(\" \", \"\").str.strip()\n",
    "df_last[\"전용면적\"]"
   ]
  },
  {
   "cell_type": "markdown",
   "id": "93e878d0",
   "metadata": {},
   "source": [
    "## 필요없는 컬럼 제거하기\n",
    "- drop을 통해 전처리 해준 컬럼을 제거해보자.\n",
    "- 데이터프레임과 관련된 메소드에는 axis 옵션이 필요할 때가 있다.\n",
    "  - axis는 **행**과 **열**중 어떤 기준으로 처리할 지 물어보는 옵션이다.\n",
    "- 기본적으로는 0(행)으로 되어있다. ( 1은 열 )\n",
    "- 필요없는 컬럼을 삭제하면 그만큼 사용하는 메모리의 사용량이 줄어든다"
   ]
  },
  {
   "cell_type": "code",
   "execution_count": 19,
   "id": "5d97f66d",
   "metadata": {
    "scrolled": true
   },
   "outputs": [
    {
     "name": "stdout",
     "output_type": "stream",
     "text": [
      "<class 'pandas.core.frame.DataFrame'>\n",
      "RangeIndex: 4335 entries, 0 to 4334\n",
      "Data columns (total 8 columns):\n",
      " #   Column   Non-Null Count  Dtype  \n",
      "---  ------   --------------  -----  \n",
      " 0   지역명      4335 non-null   object \n",
      " 1   규모구분     4335 non-null   object \n",
      " 2   연도       4335 non-null   int64  \n",
      " 3   월        4335 non-null   int64  \n",
      " 4   분양가격(㎡)  4058 non-null   object \n",
      " 5   분양가격     3957 non-null   float64\n",
      " 6   평당분양가격   3957 non-null   float64\n",
      " 7   전용면적     4335 non-null   object \n",
      "dtypes: float64(2), int64(2), object(4)\n",
      "memory usage: 271.1+ KB\n"
     ]
    }
   ],
   "source": [
    "df_last.info()"
   ]
  },
  {
   "cell_type": "code",
   "execution_count": 20,
   "id": "facd482a",
   "metadata": {},
   "outputs": [],
   "source": [
    "df_last = df_last.drop([\"규모구분\", \"분양가격(㎡)\"], axis=1)"
   ]
  },
  {
   "cell_type": "code",
   "execution_count": 21,
   "id": "cb94605e",
   "metadata": {},
   "outputs": [
    {
     "name": "stdout",
     "output_type": "stream",
     "text": [
      "<class 'pandas.core.frame.DataFrame'>\n",
      "RangeIndex: 4335 entries, 0 to 4334\n",
      "Data columns (total 6 columns):\n",
      " #   Column  Non-Null Count  Dtype  \n",
      "---  ------  --------------  -----  \n",
      " 0   지역명     4335 non-null   object \n",
      " 1   연도      4335 non-null   int64  \n",
      " 2   월       4335 non-null   int64  \n",
      " 3   분양가격    3957 non-null   float64\n",
      " 4   평당분양가격  3957 non-null   float64\n",
      " 5   전용면적    4335 non-null   object \n",
      "dtypes: float64(2), int64(2), object(2)\n",
      "memory usage: 203.3+ KB\n"
     ]
    }
   ],
   "source": [
    "df_last.info()"
   ]
  },
  {
   "cell_type": "markdown",
   "id": "9f854b49",
   "metadata": {},
   "source": [
    "# 데이터 집계하기\n",
    "- 여러가지 방법이 있겠지만, 여기선 2가지 방법을 소개한다."
   ]
  },
  {
   "cell_type": "markdown",
   "id": "9d66bea8",
   "metadata": {},
   "source": [
    "## groupby로 데이터 집계하기\n",
    "- groupby를 사용해서 데이터를 그룹화해서 연산을 해봅시다."
   ]
  },
  {
   "cell_type": "code",
   "execution_count": 22,
   "id": "622200a7",
   "metadata": {},
   "outputs": [
    {
     "data": {
      "text/html": [
       "<div>\n",
       "<style scoped>\n",
       "    .dataframe tbody tr th:only-of-type {\n",
       "        vertical-align: middle;\n",
       "    }\n",
       "\n",
       "    .dataframe tbody tr th {\n",
       "        vertical-align: top;\n",
       "    }\n",
       "\n",
       "    .dataframe thead th {\n",
       "        text-align: right;\n",
       "    }\n",
       "</style>\n",
       "<table border=\"1\" class=\"dataframe\">\n",
       "  <thead>\n",
       "    <tr style=\"text-align: right;\">\n",
       "      <th></th>\n",
       "      <th>count</th>\n",
       "      <th>mean</th>\n",
       "      <th>std</th>\n",
       "      <th>min</th>\n",
       "      <th>25%</th>\n",
       "      <th>50%</th>\n",
       "      <th>75%</th>\n",
       "      <th>max</th>\n",
       "    </tr>\n",
       "    <tr>\n",
       "      <th>지역명</th>\n",
       "      <th></th>\n",
       "      <th></th>\n",
       "      <th></th>\n",
       "      <th></th>\n",
       "      <th></th>\n",
       "      <th></th>\n",
       "      <th></th>\n",
       "      <th></th>\n",
       "    </tr>\n",
       "  </thead>\n",
       "  <tbody>\n",
       "    <tr>\n",
       "      <th>강원</th>\n",
       "      <td>242.0</td>\n",
       "      <td>7890.750000</td>\n",
       "      <td>1044.359840</td>\n",
       "      <td>6639.6</td>\n",
       "      <td>7165.950</td>\n",
       "      <td>7581.75</td>\n",
       "      <td>8281.350</td>\n",
       "      <td>11873.4</td>\n",
       "    </tr>\n",
       "    <tr>\n",
       "      <th>경기</th>\n",
       "      <td>250.0</td>\n",
       "      <td>13356.895200</td>\n",
       "      <td>1969.310711</td>\n",
       "      <td>10160.7</td>\n",
       "      <td>11729.025</td>\n",
       "      <td>13168.65</td>\n",
       "      <td>14600.025</td>\n",
       "      <td>18711.0</td>\n",
       "    </tr>\n",
       "    <tr>\n",
       "      <th>경남</th>\n",
       "      <td>247.0</td>\n",
       "      <td>9268.778138</td>\n",
       "      <td>1356.695327</td>\n",
       "      <td>7260.0</td>\n",
       "      <td>8233.500</td>\n",
       "      <td>9187.20</td>\n",
       "      <td>9698.700</td>\n",
       "      <td>14199.9</td>\n",
       "    </tr>\n",
       "    <tr>\n",
       "      <th>경북</th>\n",
       "      <td>241.0</td>\n",
       "      <td>8376.536515</td>\n",
       "      <td>850.823275</td>\n",
       "      <td>6949.8</td>\n",
       "      <td>7728.600</td>\n",
       "      <td>8335.80</td>\n",
       "      <td>8824.200</td>\n",
       "      <td>11408.1</td>\n",
       "    </tr>\n",
       "    <tr>\n",
       "      <th>광주</th>\n",
       "      <td>201.0</td>\n",
       "      <td>9951.535821</td>\n",
       "      <td>1506.593261</td>\n",
       "      <td>7428.3</td>\n",
       "      <td>9068.400</td>\n",
       "      <td>9527.10</td>\n",
       "      <td>10800.900</td>\n",
       "      <td>16107.3</td>\n",
       "    </tr>\n",
       "    <tr>\n",
       "      <th>대구</th>\n",
       "      <td>242.0</td>\n",
       "      <td>11980.895455</td>\n",
       "      <td>2018.395637</td>\n",
       "      <td>8259.9</td>\n",
       "      <td>10399.950</td>\n",
       "      <td>11904.75</td>\n",
       "      <td>13330.350</td>\n",
       "      <td>17021.4</td>\n",
       "    </tr>\n",
       "    <tr>\n",
       "      <th>대전</th>\n",
       "      <td>198.0</td>\n",
       "      <td>10253.333333</td>\n",
       "      <td>2245.370020</td>\n",
       "      <td>8002.5</td>\n",
       "      <td>8580.000</td>\n",
       "      <td>9401.70</td>\n",
       "      <td>11615.175</td>\n",
       "      <td>16094.1</td>\n",
       "    </tr>\n",
       "    <tr>\n",
       "      <th>부산</th>\n",
       "      <td>250.0</td>\n",
       "      <td>12087.121200</td>\n",
       "      <td>1447.322754</td>\n",
       "      <td>9669.0</td>\n",
       "      <td>10709.325</td>\n",
       "      <td>12338.70</td>\n",
       "      <td>12972.300</td>\n",
       "      <td>15255.9</td>\n",
       "    </tr>\n",
       "    <tr>\n",
       "      <th>서울</th>\n",
       "      <td>250.0</td>\n",
       "      <td>23599.976400</td>\n",
       "      <td>3969.953218</td>\n",
       "      <td>16701.3</td>\n",
       "      <td>21318.825</td>\n",
       "      <td>22497.75</td>\n",
       "      <td>25072.575</td>\n",
       "      <td>42002.4</td>\n",
       "    </tr>\n",
       "    <tr>\n",
       "      <th>세종</th>\n",
       "      <td>237.0</td>\n",
       "      <td>9796.516456</td>\n",
       "      <td>1096.551246</td>\n",
       "      <td>8487.6</td>\n",
       "      <td>8906.700</td>\n",
       "      <td>9197.10</td>\n",
       "      <td>10388.400</td>\n",
       "      <td>12972.3</td>\n",
       "    </tr>\n",
       "    <tr>\n",
       "      <th>울산</th>\n",
       "      <td>149.0</td>\n",
       "      <td>10014.902013</td>\n",
       "      <td>899.543667</td>\n",
       "      <td>7992.6</td>\n",
       "      <td>9484.200</td>\n",
       "      <td>10127.70</td>\n",
       "      <td>10474.200</td>\n",
       "      <td>11860.2</td>\n",
       "    </tr>\n",
       "    <tr>\n",
       "      <th>인천</th>\n",
       "      <td>246.0</td>\n",
       "      <td>11915.320732</td>\n",
       "      <td>1642.963530</td>\n",
       "      <td>9537.0</td>\n",
       "      <td>10808.325</td>\n",
       "      <td>11378.40</td>\n",
       "      <td>12480.600</td>\n",
       "      <td>17120.4</td>\n",
       "    </tr>\n",
       "    <tr>\n",
       "      <th>전남</th>\n",
       "      <td>248.0</td>\n",
       "      <td>7565.316532</td>\n",
       "      <td>773.929820</td>\n",
       "      <td>6289.8</td>\n",
       "      <td>7098.300</td>\n",
       "      <td>7585.05</td>\n",
       "      <td>7923.300</td>\n",
       "      <td>10074.9</td>\n",
       "    </tr>\n",
       "    <tr>\n",
       "      <th>전북</th>\n",
       "      <td>248.0</td>\n",
       "      <td>7724.235484</td>\n",
       "      <td>868.364876</td>\n",
       "      <td>6270.0</td>\n",
       "      <td>7248.450</td>\n",
       "      <td>7659.30</td>\n",
       "      <td>8241.750</td>\n",
       "      <td>10071.6</td>\n",
       "    </tr>\n",
       "    <tr>\n",
       "      <th>제주</th>\n",
       "      <td>219.0</td>\n",
       "      <td>11241.276712</td>\n",
       "      <td>2351.630010</td>\n",
       "      <td>7342.5</td>\n",
       "      <td>9929.700</td>\n",
       "      <td>10787.70</td>\n",
       "      <td>12553.200</td>\n",
       "      <td>18024.6</td>\n",
       "    </tr>\n",
       "    <tr>\n",
       "      <th>충남</th>\n",
       "      <td>239.0</td>\n",
       "      <td>8233.651883</td>\n",
       "      <td>741.954128</td>\n",
       "      <td>6926.7</td>\n",
       "      <td>7585.050</td>\n",
       "      <td>8134.50</td>\n",
       "      <td>8768.100</td>\n",
       "      <td>10563.3</td>\n",
       "    </tr>\n",
       "    <tr>\n",
       "      <th>충북</th>\n",
       "      <td>250.0</td>\n",
       "      <td>7634.655600</td>\n",
       "      <td>796.759331</td>\n",
       "      <td>6164.4</td>\n",
       "      <td>6969.600</td>\n",
       "      <td>7543.80</td>\n",
       "      <td>8250.000</td>\n",
       "      <td>9421.5</td>\n",
       "    </tr>\n",
       "  </tbody>\n",
       "</table>\n",
       "</div>"
      ],
      "text/plain": [
       "     count          mean          std      min        25%       50%  \\\n",
       "지역명                                                                   \n",
       "강원   242.0   7890.750000  1044.359840   6639.6   7165.950   7581.75   \n",
       "경기   250.0  13356.895200  1969.310711  10160.7  11729.025  13168.65   \n",
       "경남   247.0   9268.778138  1356.695327   7260.0   8233.500   9187.20   \n",
       "경북   241.0   8376.536515   850.823275   6949.8   7728.600   8335.80   \n",
       "광주   201.0   9951.535821  1506.593261   7428.3   9068.400   9527.10   \n",
       "대구   242.0  11980.895455  2018.395637   8259.9  10399.950  11904.75   \n",
       "대전   198.0  10253.333333  2245.370020   8002.5   8580.000   9401.70   \n",
       "부산   250.0  12087.121200  1447.322754   9669.0  10709.325  12338.70   \n",
       "서울   250.0  23599.976400  3969.953218  16701.3  21318.825  22497.75   \n",
       "세종   237.0   9796.516456  1096.551246   8487.6   8906.700   9197.10   \n",
       "울산   149.0  10014.902013   899.543667   7992.6   9484.200  10127.70   \n",
       "인천   246.0  11915.320732  1642.963530   9537.0  10808.325  11378.40   \n",
       "전남   248.0   7565.316532   773.929820   6289.8   7098.300   7585.05   \n",
       "전북   248.0   7724.235484   868.364876   6270.0   7248.450   7659.30   \n",
       "제주   219.0  11241.276712  2351.630010   7342.5   9929.700  10787.70   \n",
       "충남   239.0   8233.651883   741.954128   6926.7   7585.050   8134.50   \n",
       "충북   250.0   7634.655600   796.759331   6164.4   6969.600   7543.80   \n",
       "\n",
       "           75%      max  \n",
       "지역명                      \n",
       "강원    8281.350  11873.4  \n",
       "경기   14600.025  18711.0  \n",
       "경남    9698.700  14199.9  \n",
       "경북    8824.200  11408.1  \n",
       "광주   10800.900  16107.3  \n",
       "대구   13330.350  17021.4  \n",
       "대전   11615.175  16094.1  \n",
       "부산   12972.300  15255.9  \n",
       "서울   25072.575  42002.4  \n",
       "세종   10388.400  12972.3  \n",
       "울산   10474.200  11860.2  \n",
       "인천   12480.600  17120.4  \n",
       "전남    7923.300  10074.9  \n",
       "전북    8241.750  10071.6  \n",
       "제주   12553.200  18024.6  \n",
       "충남    8768.100  10563.3  \n",
       "충북    8250.000   9421.5  "
      ]
     },
     "execution_count": 22,
     "metadata": {},
     "output_type": "execute_result"
    }
   ],
   "source": [
    "# 지역명으로 분양가격의 평균을 구하라.\n",
    "df_last.groupby([\"지역명\"])[\"평당분양가격\"].mean() # 평균\n",
    "df_last.groupby([\"지역명\"])[\"평당분양가격\"].sum() # 합계\n",
    "df_last.groupby([\"지역명\"])[\"평당분양가격\"].max() # 최고가\n",
    "df_last.groupby([\"지역명\"])[\"평당분양가격\"].min() # 최솟값\n",
    "df_last.groupby([\"지역명\"])[\"평당분양가격\"].describe() # 요약"
   ]
  },
  {
   "cell_type": "code",
   "execution_count": 23,
   "id": "26c6a154",
   "metadata": {},
   "outputs": [
    {
     "data": {
      "text/plain": [
       "전용면적\n",
       "102㎡~       11517.705634\n",
       "60㎡         10375.137421\n",
       "60㎡~85㎡     10271.040071\n",
       "85㎡~102㎡    11097.599573\n",
       "전체          10276.086207\n",
       "Name: 평당분양가격, dtype: float64"
      ]
     },
     "execution_count": 23,
     "metadata": {},
     "output_type": "execute_result"
    }
   ],
   "source": [
    "# 전용면적으로 평당분양가격의 평균을 구하라.\n",
    "df_last.groupby([\"전용면적\"])[\"평당분양가격\"].mean()"
   ]
  },
  {
   "cell_type": "code",
   "execution_count": 24,
   "id": "bb7d4032",
   "metadata": {},
   "outputs": [
    {
     "data": {
      "text/html": [
       "<div>\n",
       "<style scoped>\n",
       "    .dataframe tbody tr th:only-of-type {\n",
       "        vertical-align: middle;\n",
       "    }\n",
       "\n",
       "    .dataframe tbody tr th {\n",
       "        vertical-align: top;\n",
       "    }\n",
       "\n",
       "    .dataframe thead th {\n",
       "        text-align: right;\n",
       "    }\n",
       "</style>\n",
       "<table border=\"1\" class=\"dataframe\">\n",
       "  <thead>\n",
       "    <tr style=\"text-align: right;\">\n",
       "      <th>지역명</th>\n",
       "      <th>강원</th>\n",
       "      <th>경기</th>\n",
       "      <th>경남</th>\n",
       "      <th>경북</th>\n",
       "      <th>광주</th>\n",
       "      <th>대구</th>\n",
       "      <th>대전</th>\n",
       "      <th>부산</th>\n",
       "      <th>서울</th>\n",
       "      <th>세종</th>\n",
       "      <th>울산</th>\n",
       "      <th>인천</th>\n",
       "      <th>전남</th>\n",
       "      <th>전북</th>\n",
       "      <th>제주</th>\n",
       "      <th>충남</th>\n",
       "      <th>충북</th>\n",
       "    </tr>\n",
       "    <tr>\n",
       "      <th>전용면적</th>\n",
       "      <th></th>\n",
       "      <th></th>\n",
       "      <th></th>\n",
       "      <th></th>\n",
       "      <th></th>\n",
       "      <th></th>\n",
       "      <th></th>\n",
       "      <th></th>\n",
       "      <th></th>\n",
       "      <th></th>\n",
       "      <th></th>\n",
       "      <th></th>\n",
       "      <th></th>\n",
       "      <th></th>\n",
       "      <th></th>\n",
       "      <th></th>\n",
       "      <th></th>\n",
       "    </tr>\n",
       "  </thead>\n",
       "  <tbody>\n",
       "    <tr>\n",
       "      <th>102㎡~</th>\n",
       "      <td>8311.0</td>\n",
       "      <td>14772.0</td>\n",
       "      <td>10358.0</td>\n",
       "      <td>9157.0</td>\n",
       "      <td>11042.0</td>\n",
       "      <td>13087.0</td>\n",
       "      <td>14877.0</td>\n",
       "      <td>13208.0</td>\n",
       "      <td>23446.0</td>\n",
       "      <td>10107.0</td>\n",
       "      <td>9974.0</td>\n",
       "      <td>14362.0</td>\n",
       "      <td>8168.0</td>\n",
       "      <td>8194.0</td>\n",
       "      <td>10523.0</td>\n",
       "      <td>8689.0</td>\n",
       "      <td>8195.0</td>\n",
       "    </tr>\n",
       "    <tr>\n",
       "      <th>60㎡</th>\n",
       "      <td>7567.0</td>\n",
       "      <td>13252.0</td>\n",
       "      <td>8689.0</td>\n",
       "      <td>7883.0</td>\n",
       "      <td>9431.0</td>\n",
       "      <td>11992.0</td>\n",
       "      <td>9176.0</td>\n",
       "      <td>11354.0</td>\n",
       "      <td>23213.0</td>\n",
       "      <td>9324.0</td>\n",
       "      <td>9202.0</td>\n",
       "      <td>11241.0</td>\n",
       "      <td>7210.0</td>\n",
       "      <td>7610.0</td>\n",
       "      <td>14022.0</td>\n",
       "      <td>7911.0</td>\n",
       "      <td>7103.0</td>\n",
       "    </tr>\n",
       "    <tr>\n",
       "      <th>60㎡~85㎡</th>\n",
       "      <td>7486.0</td>\n",
       "      <td>12524.0</td>\n",
       "      <td>8619.0</td>\n",
       "      <td>8061.0</td>\n",
       "      <td>9911.0</td>\n",
       "      <td>11779.0</td>\n",
       "      <td>9711.0</td>\n",
       "      <td>11865.0</td>\n",
       "      <td>22787.0</td>\n",
       "      <td>9775.0</td>\n",
       "      <td>10503.0</td>\n",
       "      <td>11384.0</td>\n",
       "      <td>7269.0</td>\n",
       "      <td>7271.0</td>\n",
       "      <td>10621.0</td>\n",
       "      <td>7819.0</td>\n",
       "      <td>7264.0</td>\n",
       "    </tr>\n",
       "    <tr>\n",
       "      <th>85㎡~102㎡</th>\n",
       "      <td>8750.0</td>\n",
       "      <td>13678.0</td>\n",
       "      <td>10018.0</td>\n",
       "      <td>8774.0</td>\n",
       "      <td>9296.0</td>\n",
       "      <td>11141.0</td>\n",
       "      <td>9037.0</td>\n",
       "      <td>12073.0</td>\n",
       "      <td>25944.0</td>\n",
       "      <td>9848.0</td>\n",
       "      <td>8861.0</td>\n",
       "      <td>11528.0</td>\n",
       "      <td>7909.0</td>\n",
       "      <td>8276.0</td>\n",
       "      <td>10709.0</td>\n",
       "      <td>9120.0</td>\n",
       "      <td>8391.0</td>\n",
       "    </tr>\n",
       "    <tr>\n",
       "      <th>전체</th>\n",
       "      <td>7478.0</td>\n",
       "      <td>12560.0</td>\n",
       "      <td>8659.0</td>\n",
       "      <td>8079.0</td>\n",
       "      <td>9904.0</td>\n",
       "      <td>11771.0</td>\n",
       "      <td>9786.0</td>\n",
       "      <td>11936.0</td>\n",
       "      <td>22610.0</td>\n",
       "      <td>9805.0</td>\n",
       "      <td>10493.0</td>\n",
       "      <td>11257.0</td>\n",
       "      <td>7284.0</td>\n",
       "      <td>7293.0</td>\n",
       "      <td>10785.0</td>\n",
       "      <td>7815.0</td>\n",
       "      <td>7219.0</td>\n",
       "    </tr>\n",
       "  </tbody>\n",
       "</table>\n",
       "</div>"
      ],
      "text/plain": [
       "지역명           강원       경기       경남      경북       광주       대구       대전  \\\n",
       "전용면적                                                                    \n",
       "102㎡~     8311.0  14772.0  10358.0  9157.0  11042.0  13087.0  14877.0   \n",
       "60㎡       7567.0  13252.0   8689.0  7883.0   9431.0  11992.0   9176.0   \n",
       "60㎡~85㎡   7486.0  12524.0   8619.0  8061.0   9911.0  11779.0   9711.0   \n",
       "85㎡~102㎡  8750.0  13678.0  10018.0  8774.0   9296.0  11141.0   9037.0   \n",
       "전체        7478.0  12560.0   8659.0  8079.0   9904.0  11771.0   9786.0   \n",
       "\n",
       "지역명            부산       서울       세종       울산       인천      전남      전북  \\\n",
       "전용면적                                                                    \n",
       "102㎡~     13208.0  23446.0  10107.0   9974.0  14362.0  8168.0  8194.0   \n",
       "60㎡       11354.0  23213.0   9324.0   9202.0  11241.0  7210.0  7610.0   \n",
       "60㎡~85㎡   11865.0  22787.0   9775.0  10503.0  11384.0  7269.0  7271.0   \n",
       "85㎡~102㎡  12073.0  25944.0   9848.0   8861.0  11528.0  7909.0  8276.0   \n",
       "전체        11936.0  22610.0   9805.0  10493.0  11257.0  7284.0  7293.0   \n",
       "\n",
       "지역명            제주      충남      충북  \n",
       "전용면적                               \n",
       "102㎡~     10523.0  8689.0  8195.0  \n",
       "60㎡       14022.0  7911.0  7103.0  \n",
       "60㎡~85㎡   10621.0  7819.0  7264.0  \n",
       "85㎡~102㎡  10709.0  9120.0  8391.0  \n",
       "전체        10785.0  7815.0  7219.0  "
      ]
     },
     "execution_count": 24,
     "metadata": {},
     "output_type": "execute_result"
    }
   ],
   "source": [
    "# 지역명, 전용면적으로 평당분양가격의 평균을 구하라.\n",
    "df_last.groupby([\"전용면적\", \"지역명\"])[\"평당분양가격\"].mean().unstack().round()"
   ]
  },
  {
   "cell_type": "code",
   "execution_count": 25,
   "id": "ae8fd7d9",
   "metadata": {
    "scrolled": true
   },
   "outputs": [
    {
     "data": {
      "text/html": [
       "<div>\n",
       "<style scoped>\n",
       "    .dataframe tbody tr th:only-of-type {\n",
       "        vertical-align: middle;\n",
       "    }\n",
       "\n",
       "    .dataframe tbody tr th {\n",
       "        vertical-align: top;\n",
       "    }\n",
       "\n",
       "    .dataframe thead th {\n",
       "        text-align: right;\n",
       "    }\n",
       "</style>\n",
       "<table border=\"1\" class=\"dataframe\">\n",
       "  <thead>\n",
       "    <tr style=\"text-align: right;\">\n",
       "      <th>지역명</th>\n",
       "      <th>강원</th>\n",
       "      <th>경기</th>\n",
       "      <th>경남</th>\n",
       "      <th>경북</th>\n",
       "      <th>광주</th>\n",
       "      <th>대구</th>\n",
       "      <th>대전</th>\n",
       "      <th>부산</th>\n",
       "      <th>서울</th>\n",
       "      <th>세종</th>\n",
       "      <th>울산</th>\n",
       "      <th>인천</th>\n",
       "      <th>전남</th>\n",
       "      <th>전북</th>\n",
       "      <th>제주</th>\n",
       "      <th>충남</th>\n",
       "      <th>충북</th>\n",
       "    </tr>\n",
       "    <tr>\n",
       "      <th>연도</th>\n",
       "      <th></th>\n",
       "      <th></th>\n",
       "      <th></th>\n",
       "      <th></th>\n",
       "      <th></th>\n",
       "      <th></th>\n",
       "      <th></th>\n",
       "      <th></th>\n",
       "      <th></th>\n",
       "      <th></th>\n",
       "      <th></th>\n",
       "      <th></th>\n",
       "      <th></th>\n",
       "      <th></th>\n",
       "      <th></th>\n",
       "      <th></th>\n",
       "      <th></th>\n",
       "    </tr>\n",
       "  </thead>\n",
       "  <tbody>\n",
       "    <tr>\n",
       "      <th>2015</th>\n",
       "      <td>7188.060000</td>\n",
       "      <td>11060.94</td>\n",
       "      <td>8459.220000</td>\n",
       "      <td>7464.160000</td>\n",
       "      <td>7916.700000</td>\n",
       "      <td>9018.900000</td>\n",
       "      <td>8190.600000</td>\n",
       "      <td>10377.400</td>\n",
       "      <td>20315.680</td>\n",
       "      <td>8765.020000</td>\n",
       "      <td>9367.600000</td>\n",
       "      <td>10976.020000</td>\n",
       "      <td>6798.880000</td>\n",
       "      <td>7110.400000</td>\n",
       "      <td>7951.075000</td>\n",
       "      <td>7689.880000</td>\n",
       "      <td>6828.800</td>\n",
       "    </tr>\n",
       "    <tr>\n",
       "      <th>2016</th>\n",
       "      <td>7162.903846</td>\n",
       "      <td>11684.97</td>\n",
       "      <td>8496.730000</td>\n",
       "      <td>7753.405000</td>\n",
       "      <td>9190.683333</td>\n",
       "      <td>10282.030000</td>\n",
       "      <td>8910.733333</td>\n",
       "      <td>10743.535</td>\n",
       "      <td>21753.435</td>\n",
       "      <td>8857.805000</td>\n",
       "      <td>9582.574138</td>\n",
       "      <td>11099.055000</td>\n",
       "      <td>6936.600000</td>\n",
       "      <td>6906.625000</td>\n",
       "      <td>9567.480000</td>\n",
       "      <td>7958.225000</td>\n",
       "      <td>7133.335</td>\n",
       "    </tr>\n",
       "    <tr>\n",
       "      <th>2017</th>\n",
       "      <td>7273.560000</td>\n",
       "      <td>12304.98</td>\n",
       "      <td>8786.760000</td>\n",
       "      <td>8280.800000</td>\n",
       "      <td>9613.977551</td>\n",
       "      <td>12206.700000</td>\n",
       "      <td>9957.158491</td>\n",
       "      <td>11560.680</td>\n",
       "      <td>21831.060</td>\n",
       "      <td>9132.505556</td>\n",
       "      <td>10666.935714</td>\n",
       "      <td>11640.600000</td>\n",
       "      <td>7372.920000</td>\n",
       "      <td>7398.973585</td>\n",
       "      <td>12566.730000</td>\n",
       "      <td>8198.422222</td>\n",
       "      <td>7473.120</td>\n",
       "    </tr>\n",
       "    <tr>\n",
       "      <th>2018</th>\n",
       "      <td>8219.255000</td>\n",
       "      <td>14258.42</td>\n",
       "      <td>9327.670000</td>\n",
       "      <td>8680.776923</td>\n",
       "      <td>9526.953333</td>\n",
       "      <td>12139.252632</td>\n",
       "      <td>10234.106667</td>\n",
       "      <td>12889.965</td>\n",
       "      <td>23202.245</td>\n",
       "      <td>10340.463158</td>\n",
       "      <td>10241.400000</td>\n",
       "      <td>11881.532143</td>\n",
       "      <td>7929.845000</td>\n",
       "      <td>8174.595000</td>\n",
       "      <td>11935.968000</td>\n",
       "      <td>8201.820000</td>\n",
       "      <td>8149.295</td>\n",
       "    </tr>\n",
       "    <tr>\n",
       "      <th>2019</th>\n",
       "      <td>8934.475000</td>\n",
       "      <td>15665.54</td>\n",
       "      <td>10697.615789</td>\n",
       "      <td>9050.250000</td>\n",
       "      <td>12111.675000</td>\n",
       "      <td>14081.650000</td>\n",
       "      <td>12619.200000</td>\n",
       "      <td>13537.865</td>\n",
       "      <td>28286.830</td>\n",
       "      <td>11299.394118</td>\n",
       "      <td>10216.250000</td>\n",
       "      <td>13249.775000</td>\n",
       "      <td>8219.275862</td>\n",
       "      <td>8532.260000</td>\n",
       "      <td>11828.469231</td>\n",
       "      <td>8748.840000</td>\n",
       "      <td>7970.875</td>\n",
       "    </tr>\n",
       "  </tbody>\n",
       "</table>\n",
       "</div>"
      ],
      "text/plain": [
       "지역명            강원        경기            경남           경북            광주  \\\n",
       "연도                                                                     \n",
       "2015  7188.060000  11060.94   8459.220000  7464.160000   7916.700000   \n",
       "2016  7162.903846  11684.97   8496.730000  7753.405000   9190.683333   \n",
       "2017  7273.560000  12304.98   8786.760000  8280.800000   9613.977551   \n",
       "2018  8219.255000  14258.42   9327.670000  8680.776923   9526.953333   \n",
       "2019  8934.475000  15665.54  10697.615789  9050.250000  12111.675000   \n",
       "\n",
       "지역명             대구            대전         부산         서울            세종  \\\n",
       "연도                                                                     \n",
       "2015   9018.900000   8190.600000  10377.400  20315.680   8765.020000   \n",
       "2016  10282.030000   8910.733333  10743.535  21753.435   8857.805000   \n",
       "2017  12206.700000   9957.158491  11560.680  21831.060   9132.505556   \n",
       "2018  12139.252632  10234.106667  12889.965  23202.245  10340.463158   \n",
       "2019  14081.650000  12619.200000  13537.865  28286.830  11299.394118   \n",
       "\n",
       "지역명             울산            인천           전남           전북            제주  \\\n",
       "연도                                                                         \n",
       "2015   9367.600000  10976.020000  6798.880000  7110.400000   7951.075000   \n",
       "2016   9582.574138  11099.055000  6936.600000  6906.625000   9567.480000   \n",
       "2017  10666.935714  11640.600000  7372.920000  7398.973585  12566.730000   \n",
       "2018  10241.400000  11881.532143  7929.845000  8174.595000  11935.968000   \n",
       "2019  10216.250000  13249.775000  8219.275862  8532.260000  11828.469231   \n",
       "\n",
       "지역명            충남        충북  \n",
       "연도                           \n",
       "2015  7689.880000  6828.800  \n",
       "2016  7958.225000  7133.335  \n",
       "2017  8198.422222  7473.120  \n",
       "2018  8201.820000  8149.295  \n",
       "2019  8748.840000  7970.875  "
      ]
     },
     "execution_count": 25,
     "metadata": {},
     "output_type": "execute_result"
    }
   ],
   "source": [
    "# 연도, 지역명으로 평당분양가격의 평균을 구하라.\n",
    "g = df_last.groupby([\"지역명\", \"연도\"])[\"평당분양가격\"].mean()\n",
    "g.unstack().transpose()"
   ]
  },
  {
   "cell_type": "markdown",
   "id": "04dfe930",
   "metadata": {},
   "source": [
    "## pivot table로 데이터 집계하기\n",
    "- groupby에서 했던 작업을 피봇 테이블로도 해보자!"
   ]
  },
  {
   "cell_type": "code",
   "execution_count": 26,
   "id": "c94e03f9",
   "metadata": {},
   "outputs": [
    {
     "data": {
      "text/html": [
       "<div>\n",
       "<style scoped>\n",
       "    .dataframe tbody tr th:only-of-type {\n",
       "        vertical-align: middle;\n",
       "    }\n",
       "\n",
       "    .dataframe tbody tr th {\n",
       "        vertical-align: top;\n",
       "    }\n",
       "\n",
       "    .dataframe thead th {\n",
       "        text-align: right;\n",
       "    }\n",
       "</style>\n",
       "<table border=\"1\" class=\"dataframe\">\n",
       "  <thead>\n",
       "    <tr style=\"text-align: right;\">\n",
       "      <th></th>\n",
       "      <th>평당분양가격</th>\n",
       "    </tr>\n",
       "    <tr>\n",
       "      <th>지역명</th>\n",
       "      <th></th>\n",
       "    </tr>\n",
       "  </thead>\n",
       "  <tbody>\n",
       "    <tr>\n",
       "      <th>강원</th>\n",
       "      <td>1909561.5</td>\n",
       "    </tr>\n",
       "    <tr>\n",
       "      <th>경기</th>\n",
       "      <td>3339223.8</td>\n",
       "    </tr>\n",
       "    <tr>\n",
       "      <th>경남</th>\n",
       "      <td>2289388.2</td>\n",
       "    </tr>\n",
       "    <tr>\n",
       "      <th>경북</th>\n",
       "      <td>2018745.3</td>\n",
       "    </tr>\n",
       "    <tr>\n",
       "      <th>광주</th>\n",
       "      <td>2000258.7</td>\n",
       "    </tr>\n",
       "    <tr>\n",
       "      <th>대구</th>\n",
       "      <td>2899376.7</td>\n",
       "    </tr>\n",
       "    <tr>\n",
       "      <th>대전</th>\n",
       "      <td>2030160.0</td>\n",
       "    </tr>\n",
       "    <tr>\n",
       "      <th>부산</th>\n",
       "      <td>3021780.3</td>\n",
       "    </tr>\n",
       "    <tr>\n",
       "      <th>서울</th>\n",
       "      <td>5899994.1</td>\n",
       "    </tr>\n",
       "    <tr>\n",
       "      <th>세종</th>\n",
       "      <td>2321774.4</td>\n",
       "    </tr>\n",
       "    <tr>\n",
       "      <th>울산</th>\n",
       "      <td>1492220.4</td>\n",
       "    </tr>\n",
       "    <tr>\n",
       "      <th>인천</th>\n",
       "      <td>2931168.9</td>\n",
       "    </tr>\n",
       "    <tr>\n",
       "      <th>전남</th>\n",
       "      <td>1876198.5</td>\n",
       "    </tr>\n",
       "    <tr>\n",
       "      <th>전북</th>\n",
       "      <td>1915610.4</td>\n",
       "    </tr>\n",
       "    <tr>\n",
       "      <th>제주</th>\n",
       "      <td>2461839.6</td>\n",
       "    </tr>\n",
       "    <tr>\n",
       "      <th>충남</th>\n",
       "      <td>1967842.8</td>\n",
       "    </tr>\n",
       "    <tr>\n",
       "      <th>충북</th>\n",
       "      <td>1908663.9</td>\n",
       "    </tr>\n",
       "  </tbody>\n",
       "</table>\n",
       "</div>"
      ],
      "text/plain": [
       "        평당분양가격\n",
       "지역명           \n",
       "강원   1909561.5\n",
       "경기   3339223.8\n",
       "경남   2289388.2\n",
       "경북   2018745.3\n",
       "광주   2000258.7\n",
       "대구   2899376.7\n",
       "대전   2030160.0\n",
       "부산   3021780.3\n",
       "서울   5899994.1\n",
       "세종   2321774.4\n",
       "울산   1492220.4\n",
       "인천   2931168.9\n",
       "전남   1876198.5\n",
       "전북   1915610.4\n",
       "제주   2461839.6\n",
       "충남   1967842.8\n",
       "충북   1908663.9"
      ]
     },
     "execution_count": 26,
     "metadata": {},
     "output_type": "execute_result"
    }
   ],
   "source": [
    "pd.pivot_table(df_last, index=[\"지역명\"], values=['평당분양가격'], aggfunc=\"sum\")"
   ]
  },
  {
   "cell_type": "code",
   "execution_count": 27,
   "id": "65487cee",
   "metadata": {},
   "outputs": [
    {
     "data": {
      "text/html": [
       "<div>\n",
       "<style scoped>\n",
       "    .dataframe tbody tr th:only-of-type {\n",
       "        vertical-align: middle;\n",
       "    }\n",
       "\n",
       "    .dataframe tbody tr th {\n",
       "        vertical-align: top;\n",
       "    }\n",
       "\n",
       "    .dataframe thead th {\n",
       "        text-align: right;\n",
       "    }\n",
       "</style>\n",
       "<table border=\"1\" class=\"dataframe\">\n",
       "  <thead>\n",
       "    <tr style=\"text-align: right;\">\n",
       "      <th></th>\n",
       "      <th>평당분양가격</th>\n",
       "    </tr>\n",
       "    <tr>\n",
       "      <th>전용면적</th>\n",
       "      <th></th>\n",
       "    </tr>\n",
       "  </thead>\n",
       "  <tbody>\n",
       "    <tr>\n",
       "      <th>102㎡~</th>\n",
       "      <td>11517.705634</td>\n",
       "    </tr>\n",
       "    <tr>\n",
       "      <th>60㎡</th>\n",
       "      <td>10375.137421</td>\n",
       "    </tr>\n",
       "    <tr>\n",
       "      <th>60㎡~85㎡</th>\n",
       "      <td>10271.040071</td>\n",
       "    </tr>\n",
       "    <tr>\n",
       "      <th>85㎡~102㎡</th>\n",
       "      <td>11097.599573</td>\n",
       "    </tr>\n",
       "    <tr>\n",
       "      <th>전체</th>\n",
       "      <td>10276.086207</td>\n",
       "    </tr>\n",
       "  </tbody>\n",
       "</table>\n",
       "</div>"
      ],
      "text/plain": [
       "                평당분양가격\n",
       "전용면적                  \n",
       "102㎡~     11517.705634\n",
       "60㎡       10375.137421\n",
       "60㎡~85㎡   10271.040071\n",
       "85㎡~102㎡  11097.599573\n",
       "전체        10276.086207"
      ]
     },
     "execution_count": 27,
     "metadata": {},
     "output_type": "execute_result"
    }
   ],
   "source": [
    "# df_last.groupby([\"전용면적\"])[\"평당분양가격\"].mean()\n",
    "pd.pivot_table(df_last, index=[\"전용면적\"], values=[\"평당분양가격\"])"
   ]
  },
  {
   "cell_type": "code",
   "execution_count": 28,
   "id": "3bdcaa65",
   "metadata": {},
   "outputs": [
    {
     "data": {
      "text/html": [
       "<div>\n",
       "<style scoped>\n",
       "    .dataframe tbody tr th:only-of-type {\n",
       "        vertical-align: middle;\n",
       "    }\n",
       "\n",
       "    .dataframe tbody tr th {\n",
       "        vertical-align: top;\n",
       "    }\n",
       "\n",
       "    .dataframe thead th {\n",
       "        text-align: right;\n",
       "    }\n",
       "</style>\n",
       "<table border=\"1\" class=\"dataframe\">\n",
       "  <thead>\n",
       "    <tr style=\"text-align: right;\">\n",
       "      <th>지역명</th>\n",
       "      <th>강원</th>\n",
       "      <th>경기</th>\n",
       "      <th>경남</th>\n",
       "      <th>경북</th>\n",
       "      <th>광주</th>\n",
       "      <th>대구</th>\n",
       "      <th>대전</th>\n",
       "      <th>부산</th>\n",
       "      <th>서울</th>\n",
       "      <th>세종</th>\n",
       "      <th>울산</th>\n",
       "      <th>인천</th>\n",
       "      <th>전남</th>\n",
       "      <th>전북</th>\n",
       "      <th>제주</th>\n",
       "      <th>충남</th>\n",
       "      <th>충북</th>\n",
       "    </tr>\n",
       "    <tr>\n",
       "      <th>전용면적</th>\n",
       "      <th></th>\n",
       "      <th></th>\n",
       "      <th></th>\n",
       "      <th></th>\n",
       "      <th></th>\n",
       "      <th></th>\n",
       "      <th></th>\n",
       "      <th></th>\n",
       "      <th></th>\n",
       "      <th></th>\n",
       "      <th></th>\n",
       "      <th></th>\n",
       "      <th></th>\n",
       "      <th></th>\n",
       "      <th></th>\n",
       "      <th></th>\n",
       "      <th></th>\n",
       "    </tr>\n",
       "  </thead>\n",
       "  <tbody>\n",
       "    <tr>\n",
       "      <th>102㎡~</th>\n",
       "      <td>8311.380000</td>\n",
       "      <td>14771.790</td>\n",
       "      <td>10358.363265</td>\n",
       "      <td>9157.302000</td>\n",
       "      <td>11041.532432</td>\n",
       "      <td>13087.338000</td>\n",
       "      <td>14876.871429</td>\n",
       "      <td>13208.250</td>\n",
       "      <td>23446.038</td>\n",
       "      <td>10106.976000</td>\n",
       "      <td>9974.448000</td>\n",
       "      <td>14362.030435</td>\n",
       "      <td>8168.4900</td>\n",
       "      <td>8193.57000</td>\n",
       "      <td>10522.787234</td>\n",
       "      <td>8689.169388</td>\n",
       "      <td>8195.352</td>\n",
       "    </tr>\n",
       "    <tr>\n",
       "      <th>60㎡</th>\n",
       "      <td>7567.098000</td>\n",
       "      <td>13251.744</td>\n",
       "      <td>8689.175000</td>\n",
       "      <td>7883.172000</td>\n",
       "      <td>9430.666667</td>\n",
       "      <td>11992.068000</td>\n",
       "      <td>9176.475000</td>\n",
       "      <td>11353.782</td>\n",
       "      <td>23212.794</td>\n",
       "      <td>9323.927027</td>\n",
       "      <td>9202.106897</td>\n",
       "      <td>11241.318000</td>\n",
       "      <td>7210.1700</td>\n",
       "      <td>7609.93200</td>\n",
       "      <td>14022.221053</td>\n",
       "      <td>7911.156000</td>\n",
       "      <td>7103.118</td>\n",
       "    </tr>\n",
       "    <tr>\n",
       "      <th>60㎡~85㎡</th>\n",
       "      <td>7485.588000</td>\n",
       "      <td>12523.566</td>\n",
       "      <td>8618.676000</td>\n",
       "      <td>8061.372000</td>\n",
       "      <td>9910.692000</td>\n",
       "      <td>11778.690000</td>\n",
       "      <td>9711.372000</td>\n",
       "      <td>11864.820</td>\n",
       "      <td>22786.830</td>\n",
       "      <td>9775.458000</td>\n",
       "      <td>10502.531707</td>\n",
       "      <td>11384.406000</td>\n",
       "      <td>7269.2400</td>\n",
       "      <td>7271.35200</td>\n",
       "      <td>10621.314000</td>\n",
       "      <td>7818.954000</td>\n",
       "      <td>7264.488</td>\n",
       "    </tr>\n",
       "    <tr>\n",
       "      <th>85㎡~102㎡</th>\n",
       "      <td>8749.557143</td>\n",
       "      <td>13677.774</td>\n",
       "      <td>10017.612000</td>\n",
       "      <td>8773.814634</td>\n",
       "      <td>9296.100000</td>\n",
       "      <td>11140.642857</td>\n",
       "      <td>9037.430769</td>\n",
       "      <td>12072.588</td>\n",
       "      <td>25943.874</td>\n",
       "      <td>9847.926000</td>\n",
       "      <td>8861.007692</td>\n",
       "      <td>11527.560000</td>\n",
       "      <td>7908.8625</td>\n",
       "      <td>8275.78125</td>\n",
       "      <td>10709.082353</td>\n",
       "      <td>9120.045000</td>\n",
       "      <td>8391.306</td>\n",
       "    </tr>\n",
       "    <tr>\n",
       "      <th>전체</th>\n",
       "      <td>7477.536000</td>\n",
       "      <td>12559.602</td>\n",
       "      <td>8658.672000</td>\n",
       "      <td>8078.532000</td>\n",
       "      <td>9903.630000</td>\n",
       "      <td>11771.298000</td>\n",
       "      <td>9786.018000</td>\n",
       "      <td>11936.166</td>\n",
       "      <td>22610.346</td>\n",
       "      <td>9805.422000</td>\n",
       "      <td>10492.712195</td>\n",
       "      <td>11257.026000</td>\n",
       "      <td>7283.5620</td>\n",
       "      <td>7292.60400</td>\n",
       "      <td>10784.994000</td>\n",
       "      <td>7815.324000</td>\n",
       "      <td>7219.014</td>\n",
       "    </tr>\n",
       "  </tbody>\n",
       "</table>\n",
       "</div>"
      ],
      "text/plain": [
       "지역명                강원         경기            경남           경북            광주  \\\n",
       "전용면적                                                                        \n",
       "102㎡~     8311.380000  14771.790  10358.363265  9157.302000  11041.532432   \n",
       "60㎡       7567.098000  13251.744   8689.175000  7883.172000   9430.666667   \n",
       "60㎡~85㎡   7485.588000  12523.566   8618.676000  8061.372000   9910.692000   \n",
       "85㎡~102㎡  8749.557143  13677.774  10017.612000  8773.814634   9296.100000   \n",
       "전체        7477.536000  12559.602   8658.672000  8078.532000   9903.630000   \n",
       "\n",
       "지역명                 대구            대전         부산         서울            세종  \\\n",
       "전용면적                                                                       \n",
       "102㎡~     13087.338000  14876.871429  13208.250  23446.038  10106.976000   \n",
       "60㎡       11992.068000   9176.475000  11353.782  23212.794   9323.927027   \n",
       "60㎡~85㎡   11778.690000   9711.372000  11864.820  22786.830   9775.458000   \n",
       "85㎡~102㎡  11140.642857   9037.430769  12072.588  25943.874   9847.926000   \n",
       "전체        11771.298000   9786.018000  11936.166  22610.346   9805.422000   \n",
       "\n",
       "지역명                 울산            인천         전남          전북            제주  \\\n",
       "전용면적                                                                        \n",
       "102㎡~      9974.448000  14362.030435  8168.4900  8193.57000  10522.787234   \n",
       "60㎡        9202.106897  11241.318000  7210.1700  7609.93200  14022.221053   \n",
       "60㎡~85㎡   10502.531707  11384.406000  7269.2400  7271.35200  10621.314000   \n",
       "85㎡~102㎡   8861.007692  11527.560000  7908.8625  8275.78125  10709.082353   \n",
       "전체        10492.712195  11257.026000  7283.5620  7292.60400  10784.994000   \n",
       "\n",
       "지역명                충남        충북  \n",
       "전용면적                             \n",
       "102㎡~     8689.169388  8195.352  \n",
       "60㎡       7911.156000  7103.118  \n",
       "60㎡~85㎡   7818.954000  7264.488  \n",
       "85㎡~102㎡  9120.045000  8391.306  \n",
       "전체        7815.324000  7219.014  "
      ]
     },
     "execution_count": 28,
     "metadata": {},
     "output_type": "execute_result"
    }
   ],
   "source": [
    "# df_last.groupby([\"전용면적\", \"지역명\"])[\"평당분양가격\"].mean().unstack().round()\n",
    "df_last.pivot_table(index=[\"전용면적\"], columns = \"지역명\", values=\"평당분양가격\")"
   ]
  },
  {
   "cell_type": "code",
   "execution_count": 29,
   "id": "cc5f46b6",
   "metadata": {},
   "outputs": [
    {
     "data": {
      "text/html": [
       "<div>\n",
       "<style scoped>\n",
       "    .dataframe tbody tr th:only-of-type {\n",
       "        vertical-align: middle;\n",
       "    }\n",
       "\n",
       "    .dataframe tbody tr th {\n",
       "        vertical-align: top;\n",
       "    }\n",
       "\n",
       "    .dataframe thead th {\n",
       "        text-align: right;\n",
       "    }\n",
       "</style>\n",
       "<table border=\"1\" class=\"dataframe\">\n",
       "  <thead>\n",
       "    <tr style=\"text-align: right;\">\n",
       "      <th>지역명</th>\n",
       "      <th>강원</th>\n",
       "      <th>경기</th>\n",
       "      <th>경남</th>\n",
       "      <th>경북</th>\n",
       "      <th>광주</th>\n",
       "      <th>대구</th>\n",
       "      <th>대전</th>\n",
       "      <th>부산</th>\n",
       "      <th>서울</th>\n",
       "      <th>세종</th>\n",
       "      <th>울산</th>\n",
       "      <th>인천</th>\n",
       "      <th>전남</th>\n",
       "      <th>전북</th>\n",
       "      <th>제주</th>\n",
       "      <th>충남</th>\n",
       "      <th>충북</th>\n",
       "    </tr>\n",
       "    <tr>\n",
       "      <th>연도</th>\n",
       "      <th></th>\n",
       "      <th></th>\n",
       "      <th></th>\n",
       "      <th></th>\n",
       "      <th></th>\n",
       "      <th></th>\n",
       "      <th></th>\n",
       "      <th></th>\n",
       "      <th></th>\n",
       "      <th></th>\n",
       "      <th></th>\n",
       "      <th></th>\n",
       "      <th></th>\n",
       "      <th></th>\n",
       "      <th></th>\n",
       "      <th></th>\n",
       "      <th></th>\n",
       "    </tr>\n",
       "  </thead>\n",
       "  <tbody>\n",
       "    <tr>\n",
       "      <th>2015</th>\n",
       "      <td>7188.060000</td>\n",
       "      <td>11060.94</td>\n",
       "      <td>8459.220000</td>\n",
       "      <td>7464.160000</td>\n",
       "      <td>7916.700000</td>\n",
       "      <td>9018.900000</td>\n",
       "      <td>8190.600000</td>\n",
       "      <td>10377.400</td>\n",
       "      <td>20315.680</td>\n",
       "      <td>8765.020000</td>\n",
       "      <td>9367.600000</td>\n",
       "      <td>10976.020000</td>\n",
       "      <td>6798.880000</td>\n",
       "      <td>7110.400000</td>\n",
       "      <td>7951.075000</td>\n",
       "      <td>7689.880000</td>\n",
       "      <td>6828.800</td>\n",
       "    </tr>\n",
       "    <tr>\n",
       "      <th>2016</th>\n",
       "      <td>7162.903846</td>\n",
       "      <td>11684.97</td>\n",
       "      <td>8496.730000</td>\n",
       "      <td>7753.405000</td>\n",
       "      <td>9190.683333</td>\n",
       "      <td>10282.030000</td>\n",
       "      <td>8910.733333</td>\n",
       "      <td>10743.535</td>\n",
       "      <td>21753.435</td>\n",
       "      <td>8857.805000</td>\n",
       "      <td>9582.574138</td>\n",
       "      <td>11099.055000</td>\n",
       "      <td>6936.600000</td>\n",
       "      <td>6906.625000</td>\n",
       "      <td>9567.480000</td>\n",
       "      <td>7958.225000</td>\n",
       "      <td>7133.335</td>\n",
       "    </tr>\n",
       "    <tr>\n",
       "      <th>2017</th>\n",
       "      <td>7273.560000</td>\n",
       "      <td>12304.98</td>\n",
       "      <td>8786.760000</td>\n",
       "      <td>8280.800000</td>\n",
       "      <td>9613.977551</td>\n",
       "      <td>12206.700000</td>\n",
       "      <td>9957.158491</td>\n",
       "      <td>11560.680</td>\n",
       "      <td>21831.060</td>\n",
       "      <td>9132.505556</td>\n",
       "      <td>10666.935714</td>\n",
       "      <td>11640.600000</td>\n",
       "      <td>7372.920000</td>\n",
       "      <td>7398.973585</td>\n",
       "      <td>12566.730000</td>\n",
       "      <td>8198.422222</td>\n",
       "      <td>7473.120</td>\n",
       "    </tr>\n",
       "    <tr>\n",
       "      <th>2018</th>\n",
       "      <td>8219.255000</td>\n",
       "      <td>14258.42</td>\n",
       "      <td>9327.670000</td>\n",
       "      <td>8680.776923</td>\n",
       "      <td>9526.953333</td>\n",
       "      <td>12139.252632</td>\n",
       "      <td>10234.106667</td>\n",
       "      <td>12889.965</td>\n",
       "      <td>23202.245</td>\n",
       "      <td>10340.463158</td>\n",
       "      <td>10241.400000</td>\n",
       "      <td>11881.532143</td>\n",
       "      <td>7929.845000</td>\n",
       "      <td>8174.595000</td>\n",
       "      <td>11935.968000</td>\n",
       "      <td>8201.820000</td>\n",
       "      <td>8149.295</td>\n",
       "    </tr>\n",
       "    <tr>\n",
       "      <th>2019</th>\n",
       "      <td>8934.475000</td>\n",
       "      <td>15665.54</td>\n",
       "      <td>10697.615789</td>\n",
       "      <td>9050.250000</td>\n",
       "      <td>12111.675000</td>\n",
       "      <td>14081.650000</td>\n",
       "      <td>12619.200000</td>\n",
       "      <td>13537.865</td>\n",
       "      <td>28286.830</td>\n",
       "      <td>11299.394118</td>\n",
       "      <td>10216.250000</td>\n",
       "      <td>13249.775000</td>\n",
       "      <td>8219.275862</td>\n",
       "      <td>8532.260000</td>\n",
       "      <td>11828.469231</td>\n",
       "      <td>8748.840000</td>\n",
       "      <td>7970.875</td>\n",
       "    </tr>\n",
       "  </tbody>\n",
       "</table>\n",
       "</div>"
      ],
      "text/plain": [
       "지역명            강원        경기            경남           경북            광주  \\\n",
       "연도                                                                     \n",
       "2015  7188.060000  11060.94   8459.220000  7464.160000   7916.700000   \n",
       "2016  7162.903846  11684.97   8496.730000  7753.405000   9190.683333   \n",
       "2017  7273.560000  12304.98   8786.760000  8280.800000   9613.977551   \n",
       "2018  8219.255000  14258.42   9327.670000  8680.776923   9526.953333   \n",
       "2019  8934.475000  15665.54  10697.615789  9050.250000  12111.675000   \n",
       "\n",
       "지역명             대구            대전         부산         서울            세종  \\\n",
       "연도                                                                     \n",
       "2015   9018.900000   8190.600000  10377.400  20315.680   8765.020000   \n",
       "2016  10282.030000   8910.733333  10743.535  21753.435   8857.805000   \n",
       "2017  12206.700000   9957.158491  11560.680  21831.060   9132.505556   \n",
       "2018  12139.252632  10234.106667  12889.965  23202.245  10340.463158   \n",
       "2019  14081.650000  12619.200000  13537.865  28286.830  11299.394118   \n",
       "\n",
       "지역명             울산            인천           전남           전북            제주  \\\n",
       "연도                                                                         \n",
       "2015   9367.600000  10976.020000  6798.880000  7110.400000   7951.075000   \n",
       "2016   9582.574138  11099.055000  6936.600000  6906.625000   9567.480000   \n",
       "2017  10666.935714  11640.600000  7372.920000  7398.973585  12566.730000   \n",
       "2018  10241.400000  11881.532143  7929.845000  8174.595000  11935.968000   \n",
       "2019  10216.250000  13249.775000  8219.275862  8532.260000  11828.469231   \n",
       "\n",
       "지역명            충남        충북  \n",
       "연도                           \n",
       "2015  7689.880000  6828.800  \n",
       "2016  7958.225000  7133.335  \n",
       "2017  8198.422222  7473.120  \n",
       "2018  8201.820000  8149.295  \n",
       "2019  8748.840000  7970.875  "
      ]
     },
     "execution_count": 29,
     "metadata": {},
     "output_type": "execute_result"
    }
   ],
   "source": [
    "# 연도, 지역명으로 평당분양가격의 평균을 구하라\n",
    "df_last.pivot_table(index=[\"연도\"], columns = \"지역명\", values=\"평당분양가격\")"
   ]
  },
  {
   "cell_type": "markdown",
   "id": "3ba4b6cc",
   "metadata": {},
   "source": [
    "# 최근 데이터 시각화 하기\n",
    "- 2019년 데이터를 시각화 해보자!"
   ]
  },
  {
   "cell_type": "markdown",
   "id": "451c6d70",
   "metadata": {},
   "source": [
    "## 데이터 시각화를 위한 폰트설정\n",
    "- 우선 데이터를 시각화하기 위해서 폰트를 설정해야 한다.\n",
    "- 폰트는 \"맑은 고딕\"을 사용하자. ( 애플은 애플고딕 )"
   ]
  },
  {
   "cell_type": "code",
   "execution_count": 30,
   "id": "9b317f25",
   "metadata": {},
   "outputs": [],
   "source": [
    "import matplotlib.pyplot as plt\n",
    "plt.rc(\"font\", family=\"Malgun Gothic\")"
   ]
  },
  {
   "cell_type": "markdown",
   "id": "4e8594cb",
   "metadata": {},
   "source": [
    "## Pandas로 시각화 하기 - 선그래프 & 막대그래프\n",
    "- pandas 라이브러리의 plot을 활용하면 다양한 그래프를 그릴 수 있다.\n",
    "- seaborn을 사용했을 때보다 pandas를 사용해서 시각화를 했을 경우, 미리 계산을 하고 그리기 때문에 속도가 좀 더 빠르다."
   ]
  },
  {
   "cell_type": "code",
   "execution_count": 31,
   "id": "514f7872",
   "metadata": {},
   "outputs": [
    {
     "data": {
      "text/plain": [
       "<AxesSubplot:xlabel='지역명'>"
      ]
     },
     "execution_count": 31,
     "metadata": {},
     "output_type": "execute_result"
    },
    {
     "data": {
      "image/png": "[encoded data removed]",
      "text/plain": [
       "<Figure size 720x216 with 1 Axes>"
      ]
     },
     "metadata": {
      "needs_background": "light"
     },
     "output_type": "display_data"
    }
   ],
   "source": [
    "# 지역명으로 분양가격의 평균을 구하고 선 그래프로 시각화하라\n",
    "g = df_last.groupby([\"지역명\"])[\"평당분양가격\"].mean().sort_values(ascending=False)\n",
    "g.plot.bar(rot=0, figsize=(10, 3))"
   ]
  },
  {
   "cell_type": "code",
   "execution_count": 32,
   "id": "0c015d9d",
   "metadata": {},
   "outputs": [
    {
     "data": {
      "text/plain": [
       "<AxesSubplot:xlabel='전용면적'>"
      ]
     },
     "execution_count": 32,
     "metadata": {},
     "output_type": "execute_result"
    },
    {
     "data": {
      "image/png": "[encoded data removed]",
      "text/plain": [
       "<Figure size 720x216 with 1 Axes>"
      ]
     },
     "metadata": {
      "needs_background": "light"
     },
     "output_type": "display_data"
    }
   ],
   "source": [
    "# 전용면적으로 분양가격의 평균을 구하고 막대그래프로 시각화 합니다.\n",
    "g = df_last.groupby([\"전용면적\"])[\"평당분양가격\"].mean()\n",
    "g.plot.bar(rot=0, figsize=(10, 3))"
   ]
  },
  {
   "cell_type": "code",
   "execution_count": 33,
   "id": "98086e5f",
   "metadata": {},
   "outputs": [
    {
     "data": {
      "text/plain": [
       "<AxesSubplot:xlabel='연도'>"
      ]
     },
     "execution_count": 33,
     "metadata": {},
     "output_type": "execute_result"
    },
    {
     "data": {
      "image/png": "[encoded data removed]",
      "text/plain": [
       "<Figure size 720x216 with 1 Axes>"
      ]
     },
     "metadata": {
      "needs_background": "light"
     },
     "output_type": "display_data"
    }
   ],
   "source": [
    "# 연도별 분양가격의 평균을 구하고 막대그래프로 시각화 합니다.\n",
    "g = df_last.groupby([\"연도\"])[\"평당분양가격\"].mean()\n",
    "g.plot.bar(rot=0, figsize=(10, 3))"
   ]
  },
  {
   "cell_type": "markdown",
   "id": "52583b90",
   "metadata": {},
   "source": [
    "## box-and-whisker plot | Diagram\n",
    "- 가공되지 않은 자료 그대로를 이용하여 그린것이 아닌, 자료로부터 얻어낸 통계량인 5가지 요약수치로 그린다.\n",
    "- 5가지 요약수치란? **기술통계학**에서 자료의 정보를 알려주는 아래의 다섯 가지 수치를 의미한다.\n",
    "  1. 최솟값\n",
    "  2. 제 1사분위수\n",
    "  3. 제 2사분위수, 즉 중앙값\n",
    "  4. 제 3사분위수\n",
    "  5. 최댓값"
   ]
  },
  {
   "cell_type": "code",
   "execution_count": 34,
   "id": "e0b813b0",
   "metadata": {
    "scrolled": true
   },
   "outputs": [
    {
     "data": {
      "text/plain": [
       "<AxesSubplot:>"
      ]
     },
     "execution_count": 34,
     "metadata": {},
     "output_type": "execute_result"
    },
    {
     "data": {
      "image/png": "[encoded data removed]",
      "text/plain": [
       "<Figure size 432x288 with 1 Axes>"
      ]
     },
     "metadata": {
      "needs_background": "light"
     },
     "output_type": "display_data"
    }
   ],
   "source": [
    "df_last.pivot_table(index=\"월\", columns=\"연도\", values=\"평당분양가격\").plot.box()"
   ]
  },
  {
   "cell_type": "code",
   "execution_count": 35,
   "id": "be232e47",
   "metadata": {
    "scrolled": true
   },
   "outputs": [
    {
     "data": {
      "text/plain": [
       "<AxesSubplot:>"
      ]
     },
     "execution_count": 35,
     "metadata": {},
     "output_type": "execute_result"
    },
    {
     "data": {
      "image/png": "[encoded data removed]",
      "text/plain": [
       "<Figure size 1080x216 with 1 Axes>"
      ]
     },
     "metadata": {
      "needs_background": "light"
     },
     "output_type": "display_data"
    }
   ],
   "source": [
    "p = df_last.pivot_table(index=\"연도\", columns=\"지역명\", values=\"평당분양가격\")\n",
    "p.plot.box(figsize=(15, 3), rot=40)"
   ]
  },
  {
   "cell_type": "code",
   "execution_count": 36,
   "id": "46a90e5f",
   "metadata": {},
   "outputs": [
    {
     "data": {
      "text/plain": [
       "<AxesSubplot:xlabel='연도'>"
      ]
     },
     "execution_count": 36,
     "metadata": {},
     "output_type": "execute_result"
    },
    {
     "data": {
      "image/png": "[encoded data removed]",
      "text/plain": [
       "<Figure size 1080x216 with 1 Axes>"
      ]
     },
     "metadata": {
      "needs_background": "light"
     },
     "output_type": "display_data"
    }
   ],
   "source": [
    "p.plot(figsize=(15, 3), rot=40)"
   ]
  },
  {
   "cell_type": "markdown",
   "id": "bd8aaa75",
   "metadata": {},
   "source": [
    "## Seaborn으로 시각화 하기"
   ]
  },
  {
   "cell_type": "code",
   "execution_count": 37,
   "id": "1ca1b5a4",
   "metadata": {},
   "outputs": [],
   "source": [
    "import seaborn as sns"
   ]
  },
  {
   "cell_type": "code",
   "execution_count": 38,
   "id": "5e8f56e0",
   "metadata": {},
   "outputs": [
    {
     "data": {
      "text/plain": [
       "<AxesSubplot:xlabel='지역명', ylabel='평당분양가격'>"
      ]
     },
     "execution_count": 38,
     "metadata": {},
     "output_type": "execute_result"
    },
    {
     "data": {
      "image/png": "[encoded data removed]",
      "text/plain": [
       "<Figure size 720x216 with 1 Axes>"
      ]
     },
     "metadata": {
      "needs_background": "light"
     },
     "output_type": "display_data"
    }
   ],
   "source": [
    "# 지역별 평당분양가격\n",
    "plt.figure(figsize=(10, 3))\n",
    "sns.barplot(data=df_last, x=\"지역명\", y=\"평당분양가격\",)"
   ]
  },
  {
   "cell_type": "code",
   "execution_count": 39,
   "id": "8bfe56fe",
   "metadata": {},
   "outputs": [
    {
     "data": {
      "text/plain": [
       "<AxesSubplot:xlabel='연도', ylabel='평당분양가격'>"
      ]
     },
     "execution_count": 39,
     "metadata": {},
     "output_type": "execute_result"
    },
    {
     "data": {
      "image/png": "[encoded data removed]",
      "text/plain": [
       "<Figure size 432x288 with 1 Axes>"
      ]
     },
     "metadata": {
      "needs_background": "light"
     },
     "output_type": "display_data"
    }
   ],
   "source": [
    "# 연도별 평당분양가격\n",
    "sns.barplot(data=df_last, x=\"연도\", y=\"평당분양가격\",)"
   ]
  },
  {
   "cell_type": "code",
   "execution_count": 40,
   "id": "84b27ac9",
   "metadata": {},
   "outputs": [
    {
     "data": {
      "text/plain": [
       "<matplotlib.legend.Legend at 0x14cb93b12e0>"
      ]
     },
     "execution_count": 40,
     "metadata": {},
     "output_type": "execute_result"
    },
    {
     "data": {
      "image/png": "[encoded data removed]",
      "text/plain": [
       "<Figure size 720x216 with 1 Axes>"
      ]
     },
     "metadata": {
      "needs_background": "light"
     },
     "output_type": "display_data"
    }
   ],
   "source": [
    "# 위 그래프를 line으로 그려봅시다.\n",
    "plt.figure(figsize=(10, 3))\n",
    "sns.lineplot(data=df_last, x=\"연도\", y=\"평당분양가격\", hue=\"지역명\")\n",
    "plt.legend(bbox_to_anchor=(1.05, 1), loc=2, borderaxespad=0.)"
   ]
  },
  {
   "cell_type": "code",
   "execution_count": 41,
   "id": "05cf3ec3",
   "metadata": {
    "scrolled": true
   },
   "outputs": [
    {
     "data": {
      "text/plain": [
       "<seaborn.axisgrid.FacetGrid at 0x14cb94bf3d0>"
      ]
     },
     "execution_count": 41,
     "metadata": {},
     "output_type": "execute_result"
    },
    {
     "data": {
      "image/png": "[encoded data removed]",
      "text/plain": [
       "<Figure size 1496x1800 with 17 Axes>"
      ]
     },
     "metadata": {
      "needs_background": "light"
     },
     "output_type": "display_data"
    }
   ],
   "source": [
    "# relplot로 그려봅시다.\n",
    "sns.relplot(data=df_last, x=\"연도\", y=\"평당분양가격\", hue=\"지역명\" , kind=\"line\", col=\"지역명\", col_wrap = 4, ci = None)"
   ]
  },
  {
   "cell_type": "code",
   "execution_count": 42,
   "id": "1555354e",
   "metadata": {},
   "outputs": [
    {
     "data": {
      "text/plain": [
       "<seaborn.axisgrid.FacetGrid at 0x14cb94b7ca0>"
      ]
     },
     "execution_count": 42,
     "metadata": {},
     "output_type": "execute_result"
    },
    {
     "data": {
      "image/png": "[encoded data removed]",
      "text/plain": [
       "<Figure size 1440x1800 with 17 Axes>"
      ]
     },
     "metadata": {
      "needs_background": "light"
     },
     "output_type": "display_data"
    }
   ],
   "source": [
    "# catplot로 그려봅시다.\n",
    "sns.catplot(data=df_last, x=\"연도\", y=\"평당분양가격\", kind=\"bar\", col=\"지역명\", col_wrap = 4)"
   ]
  },
  {
   "cell_type": "markdown",
   "id": "fb937b05",
   "metadata": {},
   "source": [
    "## Seaborn으로 boxplot, violinplot 그리기"
   ]
  },
  {
   "cell_type": "code",
   "execution_count": 43,
   "id": "f5b6af5d",
   "metadata": {},
   "outputs": [
    {
     "data": {
      "text/plain": [
       "<AxesSubplot:xlabel='연도', ylabel='평당분양가격'>"
      ]
     },
     "execution_count": 43,
     "metadata": {},
     "output_type": "execute_result"
    },
    {
     "data": {
      "image/png": "[encoded data removed]",
      "text/plain": [
       "<Figure size 432x288 with 1 Axes>"
      ]
     },
     "metadata": {
      "needs_background": "light"
     },
     "output_type": "display_data"
    }
   ],
   "source": [
    "# boxplot로 그려보자.\n",
    "sns.boxplot(data=df_last, x=\"연도\", y=\"평당분양가격\")"
   ]
  },
  {
   "cell_type": "code",
   "execution_count": 45,
   "id": "218c577e",
   "metadata": {},
   "outputs": [
    {
     "data": {
      "text/plain": [
       "<AxesSubplot:xlabel='연도', ylabel='평당분양가격'>"
      ]
     },
     "execution_count": 45,
     "metadata": {},
     "output_type": "execute_result"
    },
    {
     "data": {
      "image/png": "[encoded data removed]",
      "text/plain": [
       "<Figure size 864x216 with 1 Axes>"
      ]
     },
     "metadata": {
      "needs_background": "light"
     },
     "output_type": "display_data"
    }
   ],
   "source": [
    "# hue를 사용해서 위 그래프를 다시 그려보자.\n",
    "plt.figure(figsize=(12, 3))\n",
    "sns.boxplot(data=df_last, x=\"연도\", y=\"평당분양가격\", hue=\"전용면적\")"
   ]
  },
  {
   "cell_type": "code",
   "execution_count": 47,
   "id": "a8645a0e",
   "metadata": {},
   "outputs": [
    {
     "data": {
      "text/plain": [
       "<AxesSubplot:xlabel='연도', ylabel='평당분양가격'>"
      ]
     },
     "execution_count": 47,
     "metadata": {},
     "output_type": "execute_result"
    },
    {
     "data": {
      "image/png": "[encoded data removed]",
      "text/plain": [
       "<Figure size 432x288 with 1 Axes>"
      ]
     },
     "metadata": {
      "needs_background": "light"
     },
     "output_type": "display_data"
    }
   ],
   "source": [
    "# Violinplot로 그려보자.\n",
    "sns.violinplot(data=df_last, x=\"연도\", y=\"평당분양가격\")"
   ]
  },
  {
   "cell_type": "markdown",
   "id": "60ba26b2",
   "metadata": {},
   "source": [
    "## Implot과 Swarmplot"
   ]
  }
 ],
 "metadata": {
  "kernelspec": {
   "display_name": "Python 3 (ipykernel)",
   "language": "python",
   "name": "python3"
  },
  "language_info": {
   "codemirror_mode": {
    "name": "ipython",
    "version": 3
   },
   "file_extension": ".py",
   "mimetype": "text/x-python",
   "name": "python",
   "nbconvert_exporter": "python",
   "pygments_lexer": "ipython3",
   "version": "3.9.12"
  },
  "toc": {
   "base_numbering": 1,
   "nav_menu": {},
   "number_sections": true,
   "sideBar": true,
   "skip_h1_title": false,
   "title_cell": "Table of Contents",
   "title_sidebar": "Contents",
   "toc_cell": false,
   "toc_position": {
    "height": "calc(100% - 180px)",
    "left": "10px",
    "top": "150px",
    "width": "277px"
   },
   "toc_section_display": true,
   "toc_window_display": true
  },
  "varInspector": {
   "cols": {
    "lenName": 16,
    "lenType": 16,
    "lenVar": 40
   },
   "kernels_config": {
    "python": {
     "delete_cmd_postfix": "",
     "delete_cmd_prefix": "del ",
     "library": "var_list.py",
     "varRefreshCmd": "print(var_dic_list())"
    },
    "r": {
     "delete_cmd_postfix": ") ",
     "delete_cmd_prefix": "rm(",
     "library": "var_list.r",
     "varRefreshCmd": "cat(var_dic_list()) "
    }
   },
   "types_to_exclude": [
    "module",
    "function",
    "builtin_function_or_method",
    "instance",
    "_Feature"
   ],
   "window_display": false
  }
 },
 "nbformat": 4,
 "nbformat_minor": 5
}
